{
 "cells": [
  {
   "cell_type": "markdown",
   "metadata": {},
   "source": [
    "# JSON exercise"
   ]
  },
  {
   "cell_type": "code",
   "execution_count": 2,
   "metadata": {},
   "outputs": [],
   "source": [
    "import pandas as pd\n",
    "import matplotlib.pyplot as plt"
   ]
  },
  {
   "cell_type": "code",
   "execution_count": 3,
   "metadata": {},
   "outputs": [],
   "source": [
    "import json\n",
    "from pandas.io.json import json_normalize"
   ]
  },
  {
   "cell_type": "markdown",
   "metadata": {},
   "source": [
    "# Find the 10 countries with most projects"
   ]
  },
  {
   "cell_type": "code",
   "execution_count": 4,
   "metadata": {},
   "outputs": [
    {
     "data": {
      "text/plain": [
       "Indonesia             19\n",
       "China                 19\n",
       "Vietnam               17\n",
       "India                 16\n",
       "Yemen, Republic of    13\n",
       "Bangladesh            12\n",
       "Nepal                 12\n",
       "Morocco               12\n",
       "Mozambique            11\n",
       "Africa                11\n",
       "Name: countryshortname, dtype: int64"
      ]
     },
     "execution_count": 4,
     "metadata": {},
     "output_type": "execute_result"
    }
   ],
   "source": [
    "data=pd.DataFrame(json.load((open('data/world_bank_projects.json')))).countryshortname.value_counts().head(10)\n",
    "data"
   ]
  },
  {
   "cell_type": "code",
   "execution_count": 5,
   "metadata": {},
   "outputs": [
    {
     "data": {
      "image/png": "[encoded data removed]",
      "text/plain": [
       "<Figure size 432x288 with 1 Axes>"
      ]
     },
     "metadata": {
      "needs_background": "light"
     },
     "output_type": "display_data"
    }
   ],
   "source": [
    "data.plot(kind='bar',title='Top 10 countries with the most projects')\n",
    "plt.show()"
   ]
  },
  {
   "cell_type": "markdown",
   "metadata": {},
   "source": [
    "# Find the top 10 major project themes"
   ]
  },
  {
   "cell_type": "code",
   "execution_count": 6,
   "metadata": {},
   "outputs": [
    {
     "data": {
      "text/plain": [
       "{'sector': [{'Name': 'Primary education'},\n",
       "  {'Name': 'Secondary education'},\n",
       "  {'Name': 'Public administration- Other social services'},\n",
       "  {'Name': 'Tertiary education'}],\n",
       " 'supplementprojectflg': 'N',\n",
       " 'projectfinancialtype': 'IDA',\n",
       " 'prodline': 'PE',\n",
       " 'mjtheme': ['Human development'],\n",
       " 'idacommamt': 130000000,\n",
       " 'impagency': 'MINISTRY OF EDUCATION',\n",
       " 'project_name': 'Ethiopia General Education Quality Improvement Project II',\n",
       " 'mjthemecode': '8,11',\n",
       " 'closingdate': '2018-07-07T00:00:00Z',\n",
       " 'totalcommamt': 130000000,\n",
       " 'id': 'P129828',\n",
       " 'mjsector_namecode': [{'code': 'EX', 'name': 'Education'},\n",
       "  {'code': 'EX', 'name': 'Education'},\n",
       "  {'code': 'BX', 'name': 'Public Administration, Law, and Justice'},\n",
       "  {'code': 'EX', 'name': 'Education'}],\n",
       " 'docty': 'Project Information Document,Indigenous Peoples Plan,Project Information Document',\n",
       " 'sector1': {'Percent': 46, 'Name': 'Primary education'},\n",
       " 'lendinginstr': 'Investment Project Financing',\n",
       " 'countrycode': 'ET',\n",
       " 'sector2': {'Percent': 26, 'Name': 'Secondary education'},\n",
       " 'totalamt': 130000000,\n",
       " 'mjtheme_namecode': [{'code': '8', 'name': 'Human development'},\n",
       "  {'code': '11', 'name': ''}],\n",
       " 'boardapprovaldate': '2013-11-12T00:00:00Z',\n",
       " 'countryshortname': 'Ethiopia',\n",
       " 'sector4': {'Percent': 12, 'Name': 'Tertiary education'},\n",
       " 'prodlinetext': 'IBRD/IDA',\n",
       " 'productlinetype': 'L',\n",
       " 'regionname': 'Africa',\n",
       " 'status': 'Active',\n",
       " 'country_namecode': 'Federal Democratic Republic of Ethiopia!$!ET',\n",
       " 'envassesmentcategorycode': 'C',\n",
       " 'project_abstract': {'cdata': 'The development objective of the Second Phase of General Education Quality Improvement Project for Ethiopia is to improve learning conditions in primary and secondary schools and strengthen institutions at different levels of educational administration. The project has six components. The first component is curriculum, textbooks, assessment, examinations, and inspection. This component will support improvement of learning conditions in grades KG-12 by providing increased access to teaching and learning materials and through improvements to the curriculum by assessing the strengths and weaknesses of the current curriculum. This component has following four sub-components: (i) curriculum reform and implementation; (ii) teaching and learning materials; (iii) assessment and examinations; and (iv) inspection. The second component is teacher development program (TDP). This component will support improvements in learning conditions in both primary and secondary schools by advancing the quality of teaching in general education through: (a) enhancing the training of pre-service teachers in teacher education institutions; and (b) improving the quality of in-service teacher training. This component has following three sub-components: (i) pre-service teacher training; (ii) in-service teacher training; and (iii) licensing and relicensing of teachers and school leaders. The third component is school improvement plan. This component will support the strengthening of school planning in order to improve learning outcomes, and to partly fund the school improvement plans through school grants. It has following two sub-components: (i) school improvement plan; and (ii) school grants. The fourth component is management and capacity building, including education management information systems (EMIS). This component will support management and capacity building aspect of the project. This component has following three sub-components: (i) capacity building for education planning and management; (ii) capacity building for school planning and management; and (iii) EMIS. The fifth component is improving the quality of learning and teaching in secondary schools and universities through the use of information and communications technology (ICT). It has following five sub-components: (i) national policy and institution for ICT in general education; (ii) national ICT infrastructure improvement plan for general education; (iii) develop an integrated monitoring, evaluation, and learning system specifically for the ICT component; (iv) teacher professional development in the use of ICT; and (v) provision of limited number of e-Braille display readers with the possibility to scale up to all secondary education schools based on the successful implementation and usage of the readers. The sixth component is program coordination, monitoring and evaluation, and communication. It will support institutional strengthening by developing capacities in all aspects of program coordination, monitoring and evaluation; a new sub-component on communications will support information sharing for better management and accountability. It has following three sub-components: (i) program coordination; (ii) monitoring and evaluation (M and E); and (iii) communication.'},\n",
       " 'approvalfy': 1999,\n",
       " 'projectdocs': [{'DocDate': '28-AUG-2013',\n",
       "   'EntityID': '090224b081e545fb_1_0',\n",
       "   'DocURL': 'http://www-wds.worldbank.org/servlet/WDSServlet?pcont=details&eid=090224b081e545fb_1_0',\n",
       "   'DocType': 'PID',\n",
       "   'DocTypeDesc': 'Project Information Document (PID),  Vol.'},\n",
       "  {'DocDate': '01-JUL-2013',\n",
       "   'EntityID': '000442464_20130920111729',\n",
       "   'DocURL': 'http://www-wds.worldbank.org/servlet/WDSServlet?pcont=details&eid=000442464_20130920111729',\n",
       "   'DocType': 'IP',\n",
       "   'DocTypeDesc': 'Indigenous Peoples Plan (IP),  Vol.1 of 1'},\n",
       "  {'DocDate': '22-NOV-2012',\n",
       "   'EntityID': '090224b0817b19e2_1_0',\n",
       "   'DocURL': 'http://www-wds.worldbank.org/servlet/WDSServlet?pcont=details&eid=090224b0817b19e2_1_0',\n",
       "   'DocType': 'PID',\n",
       "   'DocTypeDesc': 'Project Information Document (PID),  Vol.'}],\n",
       " 'lendprojectcost': 550000000,\n",
       " 'lendinginstrtype': 'IN',\n",
       " 'theme1': {'Percent': 100, 'Name': 'Education for all'},\n",
       " 'grantamt': 0,\n",
       " 'themecode': '65',\n",
       " 'borrower': 'FEDERAL DEMOCRATIC REPUBLIC OF ETHIOPIA',\n",
       " 'sectorcode': 'ET,BS,ES,EP',\n",
       " 'sector3': {'Percent': 16,\n",
       "  'Name': 'Public administration- Other social services'},\n",
       " 'majorsector_percent': [{'Percent': 46, 'Name': 'Education'},\n",
       "  {'Percent': 26, 'Name': 'Education'},\n",
       "  {'Percent': 16, 'Name': 'Public Administration, Law, and Justice'},\n",
       "  {'Percent': 12, 'Name': 'Education'}],\n",
       " 'board_approval_month': 'November',\n",
       " 'theme_namecode': [{'code': '65', 'name': 'Education for all'}],\n",
       " 'countryname': 'Federal Democratic Republic of Ethiopia',\n",
       " 'url': 'http://www.worldbank.org/projects/P129828/ethiopia-general-education-quality-improvement-project-ii?lang=en',\n",
       " 'source': 'IBRD',\n",
       " 'projectstatusdisplay': 'Active',\n",
       " 'ibrdcommamt': 0,\n",
       " 'sector_namecode': [{'code': 'EP', 'name': 'Primary education'},\n",
       "  {'code': 'ES', 'name': 'Secondary education'},\n",
       "  {'code': 'BS', 'name': 'Public administration- Other social services'},\n",
       "  {'code': 'ET', 'name': 'Tertiary education'}],\n",
       " '_id': {'$oid': '52b213b38594d8a2be17c780'}}"
      ]
     },
     "execution_count": 6,
     "metadata": {},
     "output_type": "execute_result"
    }
   ],
   "source": [
    "data=json.load((open('data/world_bank_projects.json')))\n",
    "data[0]"
   ]
  },
  {
   "cell_type": "code",
   "execution_count": 8,
   "metadata": {},
   "outputs": [],
   "source": [
    "data=json.load((open('data/world_bank_projects.json')))\n",
    "data=json_normalize(data, 'mjtheme_namecode')#pull out nest in json"
   ]
  },
  {
   "cell_type": "code",
   "execution_count": 9,
   "metadata": {},
   "outputs": [
    {
     "name": "stdout",
     "output_type": "stream",
     "text": [
      "Lengths of (Codes, Names) : (11, 11)\n"
     ]
    }
   ],
   "source": [
    "comparison=data['name']!='' #try to eliminate missing values in names\n",
    "comp_data=data[comparison]\n",
    "codes=comp_data.code.unique()# make sure that there are no blanks \n",
    "names=comp_data.name.unique()\n",
    "print('Lengths of (Codes, Names) :',(len(codes),len(names))) #even list size, this is important for map function"
   ]
  },
  {
   "cell_type": "code",
   "execution_count": 10,
   "metadata": {},
   "outputs": [
    {
     "data": {
      "text/plain": [
       "{'8': 'Human development',\n",
       " '1': 'Economic management',\n",
       " '6': 'Social protection and risk management',\n",
       " '5': 'Trade and integration',\n",
       " '2': 'Public sector governance',\n",
       " '11': 'Environment and natural resources management',\n",
       " '7': 'Social dev/gender/inclusion',\n",
       " '4': 'Financial and private sector development',\n",
       " '10': 'Rural development',\n",
       " '9': 'Urban development',\n",
       " '3': 'Rule of law'}"
      ]
     },
     "execution_count": 10,
     "metadata": {},
     "output_type": "execute_result"
    }
   ],
   "source": [
    "codes_map=dict(zip(codes,names))\n",
    "codes_map"
   ]
  },
  {
   "cell_type": "code",
   "execution_count": 11,
   "metadata": {},
   "outputs": [
    {
     "data": {
      "text/plain": [
       "Environment and natural resources management    250\n",
       "Rural development                               216\n",
       "Human development                               210\n",
       "Public sector governance                        199\n",
       "Social protection and risk management           168\n",
       "Financial and private sector development        146\n",
       "Social dev/gender/inclusion                     130\n",
       "Trade and integration                            77\n",
       "Urban development                                50\n",
       "Economic management                              38\n",
       "Name: code, dtype: int64"
      ]
     },
     "execution_count": 11,
     "metadata": {},
     "output_type": "execute_result"
    }
   ],
   "source": [
    "data.code.map(codes_map).value_counts().head(10)"
   ]
  },
  {
   "cell_type": "code",
   "execution_count": 12,
   "metadata": {},
   "outputs": [
    {
     "data": {
      "image/png": "[encoded data removed]",
      "text/plain": [
       "<Figure size 432x288 with 1 Axes>"
      ]
     },
     "metadata": {
      "needs_background": "light"
     },
     "output_type": "display_data"
    }
   ],
   "source": [
    "data.code.map(codes_map).value_counts().head(10).plot(kind='barh',title='Top 10 Project Themes')\n",
    "plt.show()"
   ]
  },
  {
   "cell_type": "markdown",
   "metadata": {},
   "source": [
    "# Done"
   ]
  },
  {
   "cell_type": "code",
   "execution_count": null,
   "metadata": {},
   "outputs": [],
   "source": []
  },
  {
   "cell_type": "code",
   "execution_count": null,
   "metadata": {},
   "outputs": [],
   "source": []
  }
 ],
 "metadata": {
  "kernelspec": {
   "display_name": "Python 3",
   "language": "python",
   "name": "python3"
  },
  "language_info": {
   "codemirror_mode": {
    "name": "ipython",
    "version": 3
   },
   "file_extension": ".py",
   "mimetype": "text/x-python",
   "name": "python",
   "nbconvert_exporter": "python",
   "pygments_lexer": "ipython3",
   "version": "3.7.4"
  }
 },
 "nbformat": 4,
 "nbformat_minor": 2
}
