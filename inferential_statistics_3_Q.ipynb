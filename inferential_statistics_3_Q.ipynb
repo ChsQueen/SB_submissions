{
  "nbformat": 4,
  "nbformat_minor": 0,
  "metadata": {
    "kernelspec": {
      "display_name": "Python 3",
      "language": "python",
      "name": "python3"
    },
    "language_info": {
      "codemirror_mode": {
        "name": "ipython",
        "version": 3
      },
      "file_extension": ".py",
      "mimetype": "text/x-python",
      "name": "python",
      "nbconvert_exporter": "python",
      "pygments_lexer": "ipython3",
      "version": "3.7.4"
    },
    "colab": {
      "name": "inferential_statistics_3-Q.ipynb",
      "provenance": [],
      "toc_visible": true,
      "include_colab_link": true
    }
  },
  "cells": [
    {
      "cell_type": "markdown",
      "metadata": {
        "id": "view-in-github",
        "colab_type": "text"
      },
      "source": [
        "<a href=\"https://colab.research.google.com/github/ChsQueen/SB_submissions/blob/master/inferential_statistics_3_Q.ipynb\" target=\"_parent\"><img src=\"https://colab.research.google.com/assets/colab-badge.svg\" alt=\"Open In Colab\"/></a>"
      ]
    },
    {
      "cell_type": "markdown",
      "metadata": {
        "id": "_mt6KCr3XVM0",
        "colab_type": "text"
      },
      "source": [
        "# Inferential Statistics III - Bayesian"
      ]
    },
    {
      "cell_type": "markdown",
      "metadata": {
        "id": "HTZMnQrVXVM2",
        "colab_type": "text"
      },
      "source": [
        "## Introduction"
      ]
    },
    {
      "cell_type": "markdown",
      "metadata": {
        "id": "jqlKS5esXVM3",
        "colab_type": "text"
      },
      "source": [
        "In the last two subunits, you've encountered two schools for performing inference from samples. The Frequentist school calls upon a body of theory established over the past couple of centuries or so. Under certain assumptions and conditions, this allows us to calculate what we would expect to see if an experiment were to be repeated again and again and again. The expected value of the average of a sample is one such statistic we can calculate a result for, even if the originating distribution is far from normal. The bootstrap school, on the other hand, literally does (virtually) run that experiment again and again and again and empirically observes the multitude of outcomes. It then empirically calculates a statistic of interest. While this can be for exactly the same statistics that frequentism calculates (e.g. the mean of a sample) this empirical approach can also perform inference on statistics that do not have well known sampling distributions. Because of the requirement to repeat many, many redraws (with replacement) from the sample, this approach only became feasible with modern computing power.\n",
        "\n",
        "And thus we come to the Bayesian school of inference. Here we frame our probabilities not so much in terms of \"how many times would I expect this event to occur if the experiment were to be rerun many times\" but rather in terms of \"what is my belief in the likelihood of this event occurring?\" In a Bayesian probabilistic programming context, we can build models for systems and then let the data tell us how likely certain values for our model parameters are. This can be a very useful way to incorporate prior knowledge and deal with limited data. It can just be more than a _little_ fiddly to produce a good model!"
      ]
    },
    {
      "cell_type": "markdown",
      "metadata": {
        "id": "aLQ4U4J3XVM4",
        "colab_type": "text"
      },
      "source": [
        "## Medical charge data set"
      ]
    },
    {
      "cell_type": "markdown",
      "metadata": {
        "id": "W18oTaH9XVM5",
        "colab_type": "text"
      },
      "source": [
        "For the final mini-project of the stats unit, you'll once again return tot he medical charge data you've used for the other mini-projects. Previously, we considered whether we believed that the actual average(non-insured) charge had fallen below a certain threshold.\n",
        "\n",
        "The hospital is now reviewing its financial resiliency plan, which requires a model for revenue under a range of conditions that include the number of patients treated. Its current model is based on a confidence interval for the mean, and scaling that by different numbers of patients for each scenario. This approach has a number of limitations, most acutely the breakdown of the central limit theorem for low patient volumes; the current model does not do a good job of reflecting the variability in revenue you would see as the number of cases drops. A bootstrap approach would return samples of the same size as the original. Taking subsamples would restrict the sampling to the values already present in the original sample and would not do a good job of representing the actual variability you might see. What is needed is a better model of individual charges.\n",
        "\n",
        "So the problem here is that we want to model the distribution of individual charges and _we also really want to be able to capture our uncertainty about that distribution_ so we can better capture the range of values we might see. This naturally leads us to a powerful, probabilistic approach — we'll use the pymc3 library to perform Bayesian inference."
      ]
    },
    {
      "cell_type": "markdown",
      "metadata": {
        "id": "rg4-cPMaXVM6",
        "colab_type": "text"
      },
      "source": [
        "### Loading the data and performing an initial view"
      ]
    },
    {
      "cell_type": "code",
      "metadata": {
        "id": "SBF4h8T-XVM7",
        "colab_type": "code",
        "colab": {}
      },
      "source": [
        "\n",
        "import pymc3 as pm\n",
        "import pandas as pd\n",
        "import numpy as np\n",
        "from numpy.random import seed\n",
        "import matplotlib.pyplot as plt\n",
        "from scipy.stats import gamma\n",
        "# there has been some incompatibilty between theano and numpy, if you encounter\n",
        "# an error with the latest packages from anaconda, then the included\n",
        "# package-list-txt should allow you to create a conda environment with compatible\n",
        "# packages."
      ],
      "execution_count": 0,
      "outputs": []
    },
    {
      "cell_type": "code",
      "metadata": {
        "id": "W8iEyNYkXVNA",
        "colab_type": "code",
        "colab": {}
      },
      "source": [
        "medical = pd.read_csv('insurance2.csv')"
      ],
      "execution_count": 0,
      "outputs": []
    },
    {
      "cell_type": "code",
      "metadata": {
        "id": "yT2HoOYdXVND",
        "colab_type": "code",
        "colab": {
          "base_uri": "https://localhost:8080/",
          "height": 204
        },
        "outputId": "dabb202f-c8bc-4b8b-a2c2-7b2a254a50ed"
      },
      "source": [
        "medical.head()"
      ],
      "execution_count": 6,
      "outputs": [
        {
          "output_type": "execute_result",
          "data": {
            "text/html": [
              "<div>\n",
              "<style scoped>\n",
              "    .dataframe tbody tr th:only-of-type {\n",
              "        vertical-align: middle;\n",
              "    }\n",
              "\n",
              "    .dataframe tbody tr th {\n",
              "        vertical-align: top;\n",
              "    }\n",
              "\n",
              "    .dataframe thead th {\n",
              "        text-align: right;\n",
              "    }\n",
              "</style>\n",
              "<table border=\"1\" class=\"dataframe\">\n",
              "  <thead>\n",
              "    <tr style=\"text-align: right;\">\n",
              "      <th></th>\n",
              "      <th>age</th>\n",
              "      <th>sex</th>\n",
              "      <th>bmi</th>\n",
              "      <th>children</th>\n",
              "      <th>smoker</th>\n",
              "      <th>region</th>\n",
              "      <th>charges</th>\n",
              "      <th>insuranceclaim</th>\n",
              "    </tr>\n",
              "  </thead>\n",
              "  <tbody>\n",
              "    <tr>\n",
              "      <th>0</th>\n",
              "      <td>19</td>\n",
              "      <td>0</td>\n",
              "      <td>27.900</td>\n",
              "      <td>0</td>\n",
              "      <td>1</td>\n",
              "      <td>3</td>\n",
              "      <td>16884.92400</td>\n",
              "      <td>1</td>\n",
              "    </tr>\n",
              "    <tr>\n",
              "      <th>1</th>\n",
              "      <td>18</td>\n",
              "      <td>1</td>\n",
              "      <td>33.770</td>\n",
              "      <td>1</td>\n",
              "      <td>0</td>\n",
              "      <td>2</td>\n",
              "      <td>1725.55230</td>\n",
              "      <td>1</td>\n",
              "    </tr>\n",
              "    <tr>\n",
              "      <th>2</th>\n",
              "      <td>28</td>\n",
              "      <td>1</td>\n",
              "      <td>33.000</td>\n",
              "      <td>3</td>\n",
              "      <td>0</td>\n",
              "      <td>2</td>\n",
              "      <td>4449.46200</td>\n",
              "      <td>0</td>\n",
              "    </tr>\n",
              "    <tr>\n",
              "      <th>3</th>\n",
              "      <td>33</td>\n",
              "      <td>1</td>\n",
              "      <td>22.705</td>\n",
              "      <td>0</td>\n",
              "      <td>0</td>\n",
              "      <td>1</td>\n",
              "      <td>21984.47061</td>\n",
              "      <td>0</td>\n",
              "    </tr>\n",
              "    <tr>\n",
              "      <th>4</th>\n",
              "      <td>32</td>\n",
              "      <td>1</td>\n",
              "      <td>28.880</td>\n",
              "      <td>0</td>\n",
              "      <td>0</td>\n",
              "      <td>1</td>\n",
              "      <td>3866.85520</td>\n",
              "      <td>1</td>\n",
              "    </tr>\n",
              "  </tbody>\n",
              "</table>\n",
              "</div>"
            ],
            "text/plain": [
              "   age  sex     bmi  children  smoker  region      charges  insuranceclaim\n",
              "0   19    0  27.900         0       1       3  16884.92400               1\n",
              "1   18    1  33.770         1       0       2   1725.55230               1\n",
              "2   28    1  33.000         3       0       2   4449.46200               0\n",
              "3   33    1  22.705         0       0       1  21984.47061               0\n",
              "4   32    1  28.880         0       0       1   3866.85520               1"
            ]
          },
          "metadata": {
            "tags": []
          },
          "execution_count": 6
        }
      ]
    },
    {
      "cell_type": "code",
      "metadata": {
        "id": "R0JB5NsIXVNG",
        "colab_type": "code",
        "colab": {}
      },
      "source": [
        "insurance = medical.charges[medical.insuranceclaim == 1]\n",
        "no_insurance = medical.charges[medical.insuranceclaim == 0]\n",
        "n_ins = len(insurance)\n",
        "n_no_ins = len(no_insurance)"
      ],
      "execution_count": 0,
      "outputs": []
    },
    {
      "cell_type": "code",
      "metadata": {
        "id": "b_MfB-siXVNJ",
        "colab_type": "code",
        "colab": {
          "base_uri": "https://localhost:8080/",
          "height": 279
        },
        "outputId": "e94056d9-18dd-4ea3-e7c6-5eff7ad4aeed"
      },
      "source": [
        "_ = plt.hist(insurance, bins=30, alpha=0.5, label='insurance claim')\n",
        "_ = plt.hist(no_insurance, bins=30, alpha=0.5, label='not insurance claim')\n",
        "_ = plt.xlabel('Charge amount')\n",
        "_ = plt.ylabel('Frequency')\n",
        "_ = plt.legend()"
      ],
      "execution_count": 8,
      "outputs": [
        {
          "output_type": "display_data",
          "data": {
            "image/png": "[encoded data removed]",
            "text/plain": [
              "<Figure size 432x288 with 1 Axes>"
            ]
          },
          "metadata": {
            "tags": []
          }
        }
      ]
    },
    {
      "cell_type": "markdown",
      "metadata": {
        "id": "Wwqdbi3lXVNM",
        "colab_type": "text"
      },
      "source": [
        "We may suspect from the above that there is some sort of exponential-like distribution at play here. The charges that were not insurance claims seem most like this. The insurance claim charges may possibly be multimodal. The gamma distribution may be applicable and we could test this for the distribution of charges that weren't insurance claims first. Developing our new method for the easiest looking case first is a common and sound approach that can demonstrate a minimum viable solution/product and get, or keep, stakeholders on board."
      ]
    },
    {
      "cell_type": "markdown",
      "metadata": {
        "id": "Q6nLlN6hXVNN",
        "colab_type": "text"
      },
      "source": [
        "### Initial parameter estimation"
      ]
    },
    {
      "cell_type": "markdown",
      "metadata": {
        "id": "GgRT5G1OXVNN",
        "colab_type": "text"
      },
      "source": [
        "An initial guess for the gamma distribution's $\\alpha$ and $\\beta$ parameters can be made as described [here](https://wiki.analytica.com/index.php?title=Gamma_distribution)."
      ]
    },
    {
      "cell_type": "code",
      "metadata": {
        "id": "pGpLA1-7XVNO",
        "colab_type": "code",
        "colab": {
          "base_uri": "https://localhost:8080/",
          "height": 34
        },
        "outputId": "5c0ea85d-9368-4c12-9f54-fd835d623fae"
      },
      "source": [
        "alpha_est = np.mean(no_insurance)**2 / np.var(no_insurance)\n",
        "beta_est = np.var(no_insurance) / np.mean(no_insurance)\n",
        "alpha_est, beta_est"
      ],
      "execution_count": 9,
      "outputs": [
        {
          "output_type": "execute_result",
          "data": {
            "text/plain": [
              "(1.8759059725250857, 4702.486170152821)"
            ]
          },
          "metadata": {
            "tags": []
          },
          "execution_count": 9
        }
      ]
    },
    {
      "cell_type": "markdown",
      "metadata": {
        "id": "EChZR5p2XVNR",
        "colab_type": "text"
      },
      "source": [
        "### Initial simulation"
      ]
    },
    {
      "cell_type": "markdown",
      "metadata": {
        "id": "AcEA5lwqXVNS",
        "colab_type": "text"
      },
      "source": [
        "Let's draw the same number of random variates from this distribution and compare to our observed data."
      ]
    },
    {
      "cell_type": "code",
      "metadata": {
        "id": "N2LaHoQsXVNT",
        "colab_type": "code",
        "colab": {}
      },
      "source": [
        "seed(47)\n",
        "no_ins_model_rvs = gamma(alpha_est, scale=beta_est).rvs(n_no_ins)"
      ],
      "execution_count": 0,
      "outputs": []
    },
    {
      "cell_type": "code",
      "metadata": {
        "id": "_bnsjYzkXVNV",
        "colab_type": "code",
        "colab": {
          "base_uri": "https://localhost:8080/",
          "height": 279
        },
        "outputId": "d78ddf4a-1a29-43ee-de9b-6a02ca7baed8"
      },
      "source": [
        "_ = plt.hist(no_ins_model_rvs, bins=30, alpha=0.5, label='simulated')\n",
        "_ = plt.hist(no_insurance, bins=30, alpha=0.5, label='observed')\n",
        "_ = plt.xlabel('Charge amount')\n",
        "_ = plt.ylabel('Frequency')\n",
        "_ = plt.legend()"
      ],
      "execution_count": 11,
      "outputs": [
        {
          "output_type": "display_data",
          "data": {
            "image/png": "[encoded data removed]",
            "text/plain": [
              "<Figure size 432x288 with 1 Axes>"
            ]
          },
          "metadata": {
            "tags": []
          }
        }
      ]
    },
    {
      "cell_type": "markdown",
      "metadata": {
        "id": "fwbLyPmGXVNY",
        "colab_type": "text"
      },
      "source": [
        "Well it doesn't look too bad! We're not a million miles off. But can we do better? We have a plausible form for the distribution of charge amounts and potential values for that distribution's parameters so we can already draw random variates from that distribution to perform simulations. But we don't know if we have a _best_ estimate for the population parameters, and we also only have a single estimate each for $\\alpha$ and $\\beta$; we aren't capturing our uncertainty in their values. Can we take a Bayesian inference approach to estimate the parameters?"
      ]
    },
    {
      "cell_type": "markdown",
      "metadata": {
        "id": "bYyMxV8vXVNZ",
        "colab_type": "text"
      },
      "source": [
        "### Creating a PyMC3 model"
      ]
    },
    {
      "cell_type": "code",
      "metadata": {
        "id": "yTYs3cdOXVNa",
        "colab_type": "code",
        "colab": {
          "base_uri": "https://localhost:8080/",
          "height": 34
        },
        "outputId": "eeaf0f35-549e-4ee5-c722-a530aef02c96"
      },
      "source": [
        "# PyMC3 Gamma seems to use rate = 1/beta\n",
        "rate_est = 1/beta_est\n",
        "# Initial parameter estimates we'll use below\n",
        "alpha_est, rate_est"
      ],
      "execution_count": 12,
      "outputs": [
        {
          "output_type": "execute_result",
          "data": {
            "text/plain": [
              "(1.8759059725250857, 0.00021265346963636093)"
            ]
          },
          "metadata": {
            "tags": []
          },
          "execution_count": 12
        }
      ]
    },
    {
      "cell_type": "markdown",
      "metadata": {
        "id": "YI0iYoIzXVNe",
        "colab_type": "text"
      },
      "source": [
        "__Q:__ You are now going to create your own PyMC3 model!\n",
        "1. Use an [exponential](https://docs.pymc.io/api/distributions/continuous.html#pymc3.distributions.continuous.Exponential) prior for alpha. Call this stochastic variable `alpha_`.\n",
        "2. Similarly, use an exponential prior for the rate ([$1/\\beta$](https://wiki.analytica.com/index.php?title=Gamma_distribution)) parameter in PyMC3's [Gamma](https://docs.pymc.io/api/distributions/continuous.html#pymc3.distributions.continuous.Gamma). Call this stochastic variable `rate_` (but it will be supplied as `pm.Gamma`'s `beta` parameter). Hint: to set up a prior with an exponential distribution for $x$ where you have an initial estimate for $x$ of $x_0$, use a scale parameter of $1/x_0$.\n",
        "5. Create your Gamma distribution with your `alpha_` and `rate_` stochastic variables and the observed data.\n",
        "6. Perform 10000 draws."
      ]
    },
    {
      "cell_type": "markdown",
      "metadata": {
        "id": "rAD5E1xcXVNf",
        "colab_type": "text"
      },
      "source": [
        "Hint: you may find it helpful to work backwards. Start with your `pm.Gamma`, and note the required stochastic variables `alpha` and `beta`. Then, before that, you need to create those stochastic variables using `pm.Exponential` and the correct parameters."
      ]
    },
    {
      "cell_type": "markdown",
      "metadata": {
        "id": "vo7Wp4UOXVNf",
        "colab_type": "text"
      },
      "source": [
        "__A:__"
      ]
    },
    {
      "cell_type": "code",
      "metadata": {
        "id": "gjDXZOq7XVNg",
        "colab_type": "code",
        "colab": {
          "base_uri": "https://localhost:8080/",
          "height": 119
        },
        "outputId": "7d41408c-23e1-4e49-c508-65f183c878e5"
      },
      "source": [
        "with pm.Model() as model_no_ins:\n",
        "    alpha_ = pm.Exponential(\"alpha\" , 1/alpha_est)\n",
        "    rate_ = pm.Exponential(\"beta\", 1/rate_est)\n",
        "    \n",
        "    charge_no_ins = pm.Gamma(\"charge_no_insurance\",alpha=alpha_,beta=rate_,observed=no_insurance)\n",
        "    trace=pm.sample(10000)"
      ],
      "execution_count": 13,
      "outputs": [
        {
          "output_type": "stream",
          "text": [
            "Auto-assigning NUTS sampler...\n",
            "Initializing NUTS using jitter+adapt_diag...\n",
            "Sequential sampling (2 chains in 1 job)\n",
            "NUTS: [beta, alpha]\n",
            "100%|██████████| 10500/10500 [00:12<00:00, 811.75it/s]\n",
            "100%|██████████| 10500/10500 [00:12<00:00, 873.04it/s]\n"
          ],
          "name": "stderr"
        }
      ]
    },
    {
      "cell_type": "markdown",
      "metadata": {
        "id": "ceSQQCLdXVNj",
        "colab_type": "text"
      },
      "source": [
        "If you get a warning about acceptance probability not matching the target, and that it's around 0.88 when it should be close to 0.8, don't worry. We encourage you to read up on this and see if you can adjust the parameters and/or arguments to pm.sample, but if your model runs without any additional warnings or errors then you should be doing great!"
      ]
    },
    {
      "cell_type": "markdown",
      "metadata": {
        "id": "UgskhvRnXVNk",
        "colab_type": "text"
      },
      "source": [
        "__Q:__ Explore your posteriors for $\\alpha$ and $\\beta$ (from the trace).\n",
        "* Calculate the 95% credible interval for $\\alpha$ and $\\beta$.\n",
        "* Plot your posterior values of $\\alpha$ and $\\beta$ (both line plots and histograms). \n",
        "* Mark your CIs on the histograms.\n",
        "* Do they look okay? What would bad plots look like?"
      ]
    },
    {
      "cell_type": "markdown",
      "metadata": {
        "id": "f5LN3m2RXVNl",
        "colab_type": "text"
      },
      "source": [
        "__A:__"
      ]
    },
    {
      "cell_type": "code",
      "metadata": {
        "id": "_Prhxf2RXVNm",
        "colab_type": "code",
        "colab": {}
      },
      "source": [
        ""
      ],
      "execution_count": 0,
      "outputs": []
    },
    {
      "cell_type": "code",
      "metadata": {
        "id": "oZ_HRiTXXVNo",
        "colab_type": "code",
        "colab": {}
      },
      "source": [
        ""
      ],
      "execution_count": 0,
      "outputs": []
    },
    {
      "cell_type": "code",
      "metadata": {
        "id": "znDAK0-AXVNr",
        "colab_type": "code",
        "colab": {}
      },
      "source": [
        ""
      ],
      "execution_count": 0,
      "outputs": []
    },
    {
      "cell_type": "code",
      "metadata": {
        "id": "G0uJVJ1GXVNt",
        "colab_type": "code",
        "colab": {}
      },
      "source": [
        ""
      ],
      "execution_count": 0,
      "outputs": []
    },
    {
      "cell_type": "code",
      "metadata": {
        "id": "G2qfVI99XVNv",
        "colab_type": "code",
        "colab": {}
      },
      "source": [
        ""
      ],
      "execution_count": 0,
      "outputs": []
    },
    {
      "cell_type": "markdown",
      "metadata": {
        "id": "kb3hp3WVXVNy",
        "colab_type": "text"
      },
      "source": [
        ""
      ]
    },
    {
      "cell_type": "markdown",
      "metadata": {
        "id": "66X-DThXXVNy",
        "colab_type": "text"
      },
      "source": [
        "__Q:__ Play around with some of the built-in diagnostic plots for your model. We suggest at least checking out the traceplot for alpha and beta. How do they look?"
      ]
    },
    {
      "cell_type": "markdown",
      "metadata": {
        "id": "BBaLspMdXVNz",
        "colab_type": "text"
      },
      "source": [
        "__A:__"
      ]
    },
    {
      "cell_type": "code",
      "metadata": {
        "id": "nc7rF0MdXVN0",
        "colab_type": "code",
        "colab": {}
      },
      "source": [
        ""
      ],
      "execution_count": 0,
      "outputs": []
    },
    {
      "cell_type": "markdown",
      "metadata": {
        "id": "QblsRbHqXVN2",
        "colab_type": "text"
      },
      "source": [
        ""
      ]
    },
    {
      "cell_type": "code",
      "metadata": {
        "id": "jJQ-RAfiXVN2",
        "colab_type": "code",
        "colab": {}
      },
      "source": [
        ""
      ],
      "execution_count": 0,
      "outputs": []
    },
    {
      "cell_type": "markdown",
      "metadata": {
        "id": "13zOJbW5XVN5",
        "colab_type": "text"
      },
      "source": [
        "__Q:__ Take your best shot at a new simulated sequence of medical charges using scipy.stat's gamma distribution. Don't forget the difference between functions that take $\\beta$ and functions that use $1/\\beta$ for the scale parameter. Simulate a data set the same size as the number of observations in the data and overlay the two histograms (simulated and observed)."
      ]
    },
    {
      "cell_type": "markdown",
      "metadata": {
        "id": "do1xzfHkXVN6",
        "colab_type": "text"
      },
      "source": [
        "__A:__"
      ]
    },
    {
      "cell_type": "code",
      "metadata": {
        "id": "NK1s7s0oXVN6",
        "colab_type": "code",
        "colab": {}
      },
      "source": [
        ""
      ],
      "execution_count": 0,
      "outputs": []
    },
    {
      "cell_type": "code",
      "metadata": {
        "scrolled": true,
        "id": "ZJZtC8KUXVN9",
        "colab_type": "code",
        "colab": {}
      },
      "source": [
        "seed(47)\n",
        "best_shot_simulated = None"
      ],
      "execution_count": 0,
      "outputs": []
    },
    {
      "cell_type": "markdown",
      "metadata": {
        "id": "vN6uhKC5XVN_",
        "colab_type": "text"
      },
      "source": [
        "## Summary"
      ]
    },
    {
      "cell_type": "markdown",
      "metadata": {
        "id": "VXccXCu-XVN_",
        "colab_type": "text"
      },
      "source": [
        "In this exercise, we have postulated a distribution to describe the individual charge amounts for non-insured cases. This distribution has two required parameters, which we do not know, but we used PyMC3 to perform Bayesian inference to find our level of \"belief\" in a range of values for them. We then used the average parameter values to create one simulated data set of the same size as the original, but the distribution of our posteriors for these parameters will allow us to perform simulations of any sample size we desire and for a range of scenarios of different $\\alpha$ and $\\beta$. This could be a powerful tool to model different financial conditions for the hospital. \n",
        "\n",
        "Well done making it through this tricky subject. Starting think Bayesian _and_ starting to get to grips with something like PyMC3 is no easy task. As a data scientist, the most important thing is to be aware that this statistical approach exists, though you may not actually use this approach as much as you use the other approaches you've learned about. Still, we encourage you to think of ways that this approach could apply to the work that you do in this course and throughout your career.  "
      ]
    }
  ]
}