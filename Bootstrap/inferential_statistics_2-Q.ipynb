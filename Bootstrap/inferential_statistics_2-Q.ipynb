{
 "cells": [
  {
   "cell_type": "markdown",
   "metadata": {},
   "source": [
    "# Inferential statistics II - Bootstrapping"
   ]
  },
  {
   "cell_type": "markdown",
   "metadata": {},
   "source": [
    "## Introduction"
   ]
  },
  {
   "cell_type": "markdown",
   "metadata": {},
   "source": [
    "In the previous frequentist mini-projects, you did frequentist calculations to perform inference from a sample of data. Such inference relies on theory largely developed from the 19th-Century onwards that is subject to certain assumptions or theoretical limits. These are fine if those assumptions hold for the particular case you're working on, and what you want to do has a known theoretical distribution (for example the mean of a sampling distribution that we looked at in the previous mini-project.)"
   ]
  },
  {
   "cell_type": "markdown",
   "metadata": {},
   "source": [
    "In this mini-project, you'll use the same medical charge data you used in the frequentist inference mini-project, but this time you'll make inferences about the population using bootstrapping (ie. simulating repeated re-runs of an experiment.) If frequentism is about using assumptions and theoretical results to calculate what we expect to happen were an experiment to be run again and again and again, then bootstrapping is about using computing power to essentially re-run the sample draw again and again and again to see what actually happens."
   ]
  },
  {
   "cell_type": "markdown",
   "metadata": {},
   "source": [
    "## Prerequisites"
   ]
  },
  {
   "cell_type": "markdown",
   "metadata": {},
   "source": [
    "While these exercises do not strictly depend on these concepts, we encourage you to complete the previous mini-projects before starting this one so that you can approach this assignment with a good understanding of frequentist concepts like:\n",
    "* the _z_-statistic\n",
    "* the _t_-statistic\n",
    "* the difference and relationship between the two\n",
    "* the Central Limit Theorem, its assumptions and consequences\n",
    "* how to estimate the population mean and standard deviation from a sample\n",
    "* the concept of a sampling distribution of a test statistic, particularly for the mean\n",
    "* how to combine these concepts to calculate confidence intervals and p-values\n",
    "* how those confidence intervals and p-values allow you to perform hypothesis (or A/B) tests"
   ]
  },
  {
   "cell_type": "markdown",
   "metadata": {},
   "source": [
    "To complete mini-project, it's important that you first complete the bootstrap resources listed in this subunit, as they contain valuable information about how to calculate bootstrap replicates of summary statistics. Having an basic understanding of what confidence intervals and p-values are will also be helpful (we touch on them in this mini-project, but please speak to your mentor or conduct individual research if you'd like to learn more.) "
   ]
  },
  {
   "cell_type": "code",
   "execution_count": 2,
   "metadata": {},
   "outputs": [],
   "source": [
    "import pandas as pd\n",
    "import numpy as np\n",
    "from numpy.random import seed\n",
    "import matplotlib.pyplot as plt"
   ]
  },
  {
   "cell_type": "markdown",
   "metadata": {},
   "source": [
    "## Medical charge data set"
   ]
  },
  {
   "cell_type": "code",
   "execution_count": 36,
   "metadata": {},
   "outputs": [],
   "source": [
    "med_df = pd.read_csv('data/insurance2.csv')"
   ]
  },
  {
   "cell_type": "code",
   "execution_count": 37,
   "metadata": {},
   "outputs": [
    {
     "data": {
      "text/html": [
       "<div>\n",
       "<style scoped>\n",
       "    .dataframe tbody tr th:only-of-type {\n",
       "        vertical-align: middle;\n",
       "    }\n",
       "\n",
       "    .dataframe tbody tr th {\n",
       "        vertical-align: top;\n",
       "    }\n",
       "\n",
       "    .dataframe thead th {\n",
       "        text-align: right;\n",
       "    }\n",
       "</style>\n",
       "<table border=\"1\" class=\"dataframe\">\n",
       "  <thead>\n",
       "    <tr style=\"text-align: right;\">\n",
       "      <th></th>\n",
       "      <th>age</th>\n",
       "      <th>sex</th>\n",
       "      <th>bmi</th>\n",
       "      <th>children</th>\n",
       "      <th>smoker</th>\n",
       "      <th>region</th>\n",
       "      <th>charges</th>\n",
       "      <th>insuranceclaim</th>\n",
       "    </tr>\n",
       "  </thead>\n",
       "  <tbody>\n",
       "    <tr>\n",
       "      <td>0</td>\n",
       "      <td>19</td>\n",
       "      <td>0</td>\n",
       "      <td>27.900</td>\n",
       "      <td>0</td>\n",
       "      <td>1</td>\n",
       "      <td>3</td>\n",
       "      <td>16884.92400</td>\n",
       "      <td>1</td>\n",
       "    </tr>\n",
       "    <tr>\n",
       "      <td>1</td>\n",
       "      <td>18</td>\n",
       "      <td>1</td>\n",
       "      <td>33.770</td>\n",
       "      <td>1</td>\n",
       "      <td>0</td>\n",
       "      <td>2</td>\n",
       "      <td>1725.55230</td>\n",
       "      <td>1</td>\n",
       "    </tr>\n",
       "    <tr>\n",
       "      <td>2</td>\n",
       "      <td>28</td>\n",
       "      <td>1</td>\n",
       "      <td>33.000</td>\n",
       "      <td>3</td>\n",
       "      <td>0</td>\n",
       "      <td>2</td>\n",
       "      <td>4449.46200</td>\n",
       "      <td>0</td>\n",
       "    </tr>\n",
       "    <tr>\n",
       "      <td>3</td>\n",
       "      <td>33</td>\n",
       "      <td>1</td>\n",
       "      <td>22.705</td>\n",
       "      <td>0</td>\n",
       "      <td>0</td>\n",
       "      <td>1</td>\n",
       "      <td>21984.47061</td>\n",
       "      <td>0</td>\n",
       "    </tr>\n",
       "    <tr>\n",
       "      <td>4</td>\n",
       "      <td>32</td>\n",
       "      <td>1</td>\n",
       "      <td>28.880</td>\n",
       "      <td>0</td>\n",
       "      <td>0</td>\n",
       "      <td>1</td>\n",
       "      <td>3866.85520</td>\n",
       "      <td>1</td>\n",
       "    </tr>\n",
       "  </tbody>\n",
       "</table>\n",
       "</div>"
      ],
      "text/plain": [
       "   age  sex     bmi  children  smoker  region      charges  insuranceclaim\n",
       "0   19    0  27.900         0       1       3  16884.92400               1\n",
       "1   18    1  33.770         1       0       2   1725.55230               1\n",
       "2   28    1  33.000         3       0       2   4449.46200               0\n",
       "3   33    1  22.705         0       0       1  21984.47061               0\n",
       "4   32    1  28.880         0       0       1   3866.85520               1"
      ]
     },
     "execution_count": 37,
     "metadata": {},
     "output_type": "execute_result"
    }
   ],
   "source": [
    "med_df.head()"
   ]
  },
  {
   "cell_type": "code",
   "execution_count": 209,
   "metadata": {},
   "outputs": [
    {
     "data": {
      "image/png": "[encoded data removed]",
      "text/plain": [
       "<Figure size 864x576 with 1 Axes>"
      ]
     },
     "metadata": {
      "needs_background": "light"
     },
     "output_type": "display_data"
    }
   ],
   "source": [
    "\n",
    "import seaborn as sns\n",
    "# create a PDF plot of insurance charges\n",
    "\n",
    "plt.figure(figsize=(12,8))\n",
    "_ = sns.distplot(med_df.charges)\n",
    "_ = plt.title('Distribution of charges')\n",
    "_ = plt.xlabel('Charges ($)')\n",
    "_ = plt.ylabel('Probability')"
   ]
  },
  {
   "cell_type": "markdown",
   "metadata": {},
   "source": [
    "In the previous assignment, you used the frequentist approach to estimate the lower limit for the 95% confidence interval on the mean hospital charge. This approach relies on statistical theory that has been developed over the years and is also limited to statistics for which theoretical results on the sampling distribution exist. These results are remarkably useful and applicable much of the time and under a surprisingly wide range of conditions."
   ]
  },
  {
   "cell_type": "markdown",
   "metadata": {},
   "source": [
    "Having calculated the 95% lower confidence interval using frequentist theory in the previous exercise, you'll now use bootstrap inference to verify your calculations and check that you get consistent results without making the assumptions required before. After all, the distribution of charges really was very non-normal."
   ]
  },
  {
   "cell_type": "markdown",
   "metadata": {},
   "source": [
    "__Q:__ Use bootstrap sampling to estimate the same 95% confidence interval lower limit as before."
   ]
  },
  {
   "cell_type": "markdown",
   "metadata": {},
   "source": [
    "__A:__"
   ]
  },
  {
   "cell_type": "markdown",
   "metadata": {},
   "source": [
    "If you performed 10000 replicates immediately after setting the random seed to 47, you should get the value 12724 here, which compares very well with the value 12725 obtained using the _t_-distribution confidence interval previously. It is a most pleasant result to see the predictions of classical frequentist theory match with results that are now possible through the number-crunching ability of computers."
   ]
  },
  {
   "cell_type": "code",
   "execution_count": 246,
   "metadata": {},
   "outputs": [],
   "source": [
    "seed(47)"
   ]
  },
  {
   "cell_type": "code",
   "execution_count": 247,
   "metadata": {},
   "outputs": [],
   "source": [
    "bootstrap = pd.DataFrame({'meancharge': [med_df.sample(1338,replace=True).charges.mean() for i in range(10000)]})"
   ]
  },
  {
   "cell_type": "code",
   "execution_count": 248,
   "metadata": {},
   "outputs": [
    {
     "data": {
      "text/plain": [
       "12724.467921704005"
      ]
     },
     "execution_count": 248,
     "metadata": {},
     "output_type": "execute_result"
    }
   ],
   "source": [
    "#since this is one tailed test use 0.05\n",
    "bootstrap.meancharge.quantile(0.05) "
   ]
  },
  {
   "cell_type": "markdown",
   "metadata": {},
   "source": [
    "Remember, in the previous mini-projects, we saw that there are two ways of performing a _t_-test from a sample, depending on whether we can assume the groups have equal variance or not. We can actually easily test this using the bootstrap approach!"
   ]
  },
  {
   "cell_type": "markdown",
   "metadata": {},
   "source": [
    "__Q:__ Calculate the 95% confidence interval for the difference between the standard deviations of insurance and non-insurance claim charges (insured - non-insured). Calculate the differences over 10000 replicates. Plot the histogram of values and mark the locations of the percentiles. State the null and alternative hypothesis and comment on whether you would retain or reject the null hypothesis in this case and why."
   ]
  },
  {
   "cell_type": "markdown",
   "metadata": {},
   "source": [
    "__A:__"
   ]
  },
  {
   "cell_type": "code",
   "execution_count": 249,
   "metadata": {},
   "outputs": [],
   "source": [
    "ins_df =  med_df[med_df.insuranceclaim == 1]\n",
    "noins_df = med_df[med_df.insuranceclaim == 0]"
   ]
  },
  {
   "cell_type": "code",
   "execution_count": 308,
   "metadata": {},
   "outputs": [],
   "source": [
    "mc = pd.DataFrame({'meancharge': [ins_df.sample(len(ins_df),replace=True).charges.std() for i in range(10000)]})\n",
    "nomc = pd.DataFrame({'nomeancharge': [noins_df.sample(len(noins_df),replace=True).charges.std() for i in range(10000)]})"
   ]
  },
  {
   "cell_type": "code",
   "execution_count": 309,
   "metadata": {},
   "outputs": [],
   "source": [
    "g=mc.meancharge - nomc.nomeancharge\n",
    "g.head(5)\n",
    "# calculate 95% confidence interval\n",
    "x,y=np.percentile(g, [2.5,97.5])\n"
   ]
  },
  {
   "cell_type": "code",
   "execution_count": 287,
   "metadata": {},
   "outputs": [
    {
     "data": {
      "image/png": "[encoded data removed]",
      "text/plain": [
       "<Figure size 864x576 with 1 Axes>"
      ]
     },
     "metadata": {
      "needs_background": "light"
     },
     "output_type": "display_data"
    }
   ],
   "source": [
    "plt.figure(figsize=(12,8))\n",
    "_ = sns.distplot(g)\n",
    "_ = plt.xlabel('Charges ($)')\n",
    "_ = plt.ylabel('Probability')\n",
    "_ = plt.title('10,000 Distribution of Difference between std of insured Vs noninsured of Bootstrapped Samples')\n",
    "_ = plt.axvline(x, ymax=0.15, color='r')\n",
    "_ = plt.axvline(y, ymax=0.15, color='r')\n"
   ]
  },
  {
   "cell_type": "code",
   "execution_count": 295,
   "metadata": {},
   "outputs": [
    {
     "name": "stdout",
     "output_type": "stream",
     "text": [
      "t-statistic = 1643.51\n",
      "p-value = 0.0000\n"
     ]
    }
   ],
   "source": [
    "# calculate t-statistics of the std dev difference of bootstrapped sample\n",
    "t_stat, p = stats.ttest_ind(mc.meancharge, nomc.nomeancharge)\n",
    "print('t-statistic = {0:.2f}\\np-value = {1:.4f}'.format(t_stat,p))"
   ]
  },
  {
   "cell_type": "markdown",
   "metadata": {},
   "source": [
    "p value is less than .05 so the null hypothesis is rejected.\n",
    "The null hypothesis is rejected."
   ]
  },
  {
   "cell_type": "markdown",
   "metadata": {},
   "source": [
    "END"
   ]
  },
  {
   "cell_type": "code",
   "execution_count": null,
   "metadata": {},
   "outputs": [],
   "source": []
  },
  {
   "cell_type": "code",
   "execution_count": 262,
   "metadata": {},
   "outputs": [
    {
     "data": {
      "text/plain": [
       "Ttest_indResult(statistic=array([1631.39272567]), pvalue=array([0.]))"
      ]
     },
     "execution_count": 262,
     "metadata": {},
     "output_type": "execute_result"
    }
   ],
   "source": [
    "stats.ttest_ind(mc,nomc)"
   ]
  },
  {
   "cell_type": "code",
   "execution_count": 185,
   "metadata": {},
   "outputs": [],
   "source": [
    "# create bootstrap function\n",
    "def bootstrap_replicates(data, func=np.std):\n",
    "    '''\n",
    "    A function to take a random sample with replacement\n",
    "    from the original data array and return a sample\n",
    "    test statistic.\n",
    "    \n",
    "    data = array of original data\n",
    "    func = test statistic, defaults to mean\n",
    "    '''\n",
    "    bs_sample = np.random.choice(data, len(data))\n",
    "    return func(bs_sample)\n",
    "\n",
    "\n",
    "#bootstrap of insurance\n",
    "\n",
    "ins_df =  med_df[med_df.insuranceclaim == 1]\n",
    "noins_df = med_df[med_df.insuranceclaim == 0]\n",
    "\n",
    "ins_bts  = np.empty(10000)\n",
    "noins_bts  = np.empty(10000)\n",
    "\n",
    "for i in range(10000):\n",
    "    ins_bts[i] = bootstrap_replicates(data= ins_df.charges)\n",
    "   \n",
    "    \n",
    "noins_bts_df = np.empty(10000)  \n",
    "for i in range(10000):\n",
    "    noins_bts[i] = bootstrap_replicates(data=noins_df.charges)  \n",
    "      \n",
    "# Calculate mean and standard deviation of insured\n",
    "ins_bts_mu = np.mean(ins_bts)\n",
    "ins_bts_s = np.std(ins_bts)\n",
    "\n",
    "# Calculate mean and standard deviation of non insured\n",
    "noins_bts_mu = np.mean(noins_bts)\n",
    "noins_bts_s = np.std(noins_bts)\n"
   ]
  },
  {
   "cell_type": "code",
   "execution_count": 183,
   "metadata": {},
   "outputs": [
    {
     "data": {
      "text/plain": [
       "array([13315.7148071 , 14704.85523925])"
      ]
     },
     "execution_count": 183,
     "metadata": {},
     "output_type": "execute_result"
    }
   ],
   "source": [
    "# calculate 95% confidence interval\n",
    "np.percentile(ins_bts, [2.5,97.5])"
   ]
  },
  {
   "cell_type": "code",
   "execution_count": 181,
   "metadata": {},
   "outputs": [
    {
     "data": {
      "text/plain": [
       "array([5817.42396189, 7016.47939398])"
      ]
     },
     "execution_count": 181,
     "metadata": {},
     "output_type": "execute_result"
    }
   ],
   "source": [
    "np.percentile(noins_bts, [2.5,97.5]) # returns the 97.5 and 2.5th percentile."
   ]
  },
  {
   "cell_type": "code",
   "execution_count": 300,
   "metadata": {},
   "outputs": [],
   "source": [
    "# Using Bootstrapping\n",
    "# Calculate mean and standard deviation of insured\n",
    "ins_bts_mu = np.mean(ins_bts)\n",
    "ins_bts_s = np.std(ins_bts)\n",
    "\n",
    "# Calculate mean and standard deviation of non insured\n",
    "noins_bts_mu = np.mean(noins_bts)\n",
    "noins_bts_s = np.std(noins_bts)\n",
    "\n"
   ]
  },
  {
   "cell_type": "code",
   "execution_count": 301,
   "metadata": {},
   "outputs": [],
   "source": [
    "ins_df =  med_df[med_df.insuranceclaim == 1]\n",
    "noins_df = med_df[med_df.insuranceclaim == 0]\n",
    "\n",
    "# Calculate mean and standard deviation of insured samples\n",
    "insured_mu = np.mean(ins_df.charges)\n",
    "insured_s = np.std(ins_df.charges)\n",
    "\n",
    "# Calculate mean and standard deviation of non insured\n",
    "noninsured_mu = np.mean(noins_df.charges)\n",
    "noninsured_s = np.std(noins_df.charges)"
   ]
  },
  {
   "cell_type": "code",
   "execution_count": 303,
   "metadata": {},
   "outputs": [
    {
     "data": {
      "image/png": "[encoded data removed]",
      "text/plain": [
       "<Figure size 864x576 with 1 Axes>"
      ]
     },
     "metadata": {
      "needs_background": "light"
     },
     "output_type": "display_data"
    }
   ],
   "source": [
    "# plot the bootstrapped insured vs non insured\n",
    "plt.figure(figsize=(12,8))\n",
    "\n",
    "# draw the distribution of the sample means\n",
    "ax5 = sns.distplot(ins_bts_df, label='insured')\n",
    "\n",
    "# draw the distribution of the null hypothesis\n",
    "sns.distplot(noins_bts_df, label='No insured', ax=ax5)\n",
    "ax5 = plt.xlabel('Charges ($)')\n",
    "ax5 = plt.title('10,000 Bootstrapped Samples of insured vs non insured')\n",
    "ax5 = plt.legend()"
   ]
  },
  {
   "cell_type": "code",
   "execution_count": null,
   "metadata": {},
   "outputs": [],
   "source": [
    "null hypothesis - there is no difference in charges (insured vs non insured) \n",
    "                  (in other words the mean of the insured equals the mean of non insured)\n",
    "Alternate Hypothesis - there is difference in charges (insured vs non insured)"
   ]
  },
  {
   "cell_type": "code",
   "execution_count": 307,
   "metadata": {},
   "outputs": [
    {
     "name": "stdout",
     "output_type": "stream",
     "text": [
      "95% confidence interval: [-8.82730336  9.07735858]\n"
     ]
    }
   ],
   "source": [
    "# Using Bootstrapping\n",
    "# Calculate mean and standard deviation of insured\n",
    "ins_bts_mu = np.mean(ins_bts_df)\n",
    "ins_bts_s = np.std(ins_bts_df)\n",
    "# Calculate mean and standard deviation of non insured\n",
    "noins_bts_mu = np.mean(noins_bts_df)\n",
    "noins_bts_s = np.std(noins_bts_df)\n",
    "\n",
    "#Calculate difference in means\n",
    "#mean_diff_bts = ins_bts_mu  - noins_bts_mu\n",
    "\n",
    "# calculate the Standard Error of means\n",
    "std_diff_bts = np.sqrt((ins_bts_s**2 / len(ins_bts_df)) + (noins_bts_s**2 / len(noins_bts_df)))\n",
    "\n",
    "# Generate a normal distribution assuming the null hypothesis\n",
    "diff_normal_bts = np.random.normal(0, std_diff_bts, 10000)\n",
    "\n",
    "#Calculate the 95% Confidence interval\n",
    "print('95% confidence interval: {}'.format(np.percentile(diff_normal_bts, [2.5,97.5])))\n",
    "\n",
    "\n"
   ]
  },
  {
   "cell_type": "code",
   "execution_count": 306,
   "metadata": {},
   "outputs": [
    {
     "name": "stdout",
     "output_type": "stream",
     "text": [
      "Normal 95% confidence interval: [6462.03789072 8715.66894411]\n",
      "Normal 95% confidence interval: [-1114.87141773  1136.32834482]\n",
      "Difference of means: 7602.5064\n",
      "z-score: 13.31\n",
      "p-value: 0.0000\n",
      "t-statistic = 11.89\n",
      "p-value = 0.0000\n"
     ]
    }
   ],
   "source": [
    "ins_df =  med_df[med_df.insuranceclaim == 1]\n",
    "noins_df = med_df[med_df.insuranceclaim == 0]\n",
    "\n",
    "# Calculate mean and standard deviation of insured samples\n",
    "insured_mu = np.mean(ins_df.charges)\n",
    "insured_s = np.std(ins_df.charges)\n",
    "\n",
    "# Calculate mean and standard deviation of non insured\n",
    "noninsured_mu = np.mean(noins_df.charges)\n",
    "noninsured_s = np.std(noins_df.charges)\n",
    "\n",
    "# calculate difference in means\n",
    "mean_diff = insured_mu - noninsured_mu\n",
    "\n",
    "# calculate the Standard Error of means\n",
    "std_diff = np.sqrt((insured_s**2 / len(ins_df.charges)) + (noninsured_s**2 / len(noins_df.charges)))\n",
    "\n",
    "\n",
    "# Generate a normal distribution with the sample data\n",
    "diff_normal_sample = np.random.normal(mean_diff, std_diff, 10000)\n",
    "\n",
    "# Generate a normal distribution assuming the null hypothesis\n",
    "diff_normal = np.random.normal(0, std_diff, 10000)\n",
    "                          \n",
    "#Calculate the 95% Confidence interval\n",
    "print('Normal 95% confidence interval: {}'.format(np.percentile(diff_normal_sample, [2.5,97.5])))\n",
    "print('Normal 95% confidence interval: {}'.format(np.percentile(diff_normal, [2.5,97.5])))\n",
    "print('Difference of means: {:.4f}'.format(mean_diff))\n",
    "\n",
    "#calculate the z-score\n",
    "z_score = (mean_diff - 0) / std_diff\n",
    "print('z-score: {:.2f}'.format(z_score))\n",
    "print('p-value: {:.4f}'.format(stats.norm.cdf(0-z_score)))\n",
    "\n",
    "# calculate t-statistics\n",
    "t_stat, p = stats.ttest_ind(ins_df.charges, noins_df.charges)\n",
    "print('t-statistic = {0:.2f}\\np-value = {1:.4f}'.format(t_stat,p))"
   ]
  },
  {
   "cell_type": "code",
   "execution_count": 296,
   "metadata": {},
   "outputs": [
    {
     "name": "stdout",
     "output_type": "stream",
     "text": [
      "t-statistic = 11.89\n",
      "p-value = 0.0000\n"
     ]
    }
   ],
   "source": [
    "# calculate t-statistics\n",
    "t_stat, p = stats.ttest_ind(ins_df.charges, noins_df.charges)\n",
    "print('t-statistic = {0:.2f}\\np-value = {1:.4f}'.format(t_stat,p))"
   ]
  },
  {
   "cell_type": "code",
   "execution_count": null,
   "metadata": {},
   "outputs": [],
   "source": []
  },
  {
   "cell_type": "code",
   "execution_count": null,
   "metadata": {},
   "outputs": [],
   "source": []
  },
  {
   "cell_type": "code",
   "execution_count": null,
   "metadata": {},
   "outputs": [],
   "source": []
  },
  {
   "cell_type": "code",
   "execution_count": null,
   "metadata": {},
   "outputs": [],
   "source": []
  },
  {
   "cell_type": "code",
   "execution_count": null,
   "metadata": {},
   "outputs": [],
   "source": []
  },
  {
   "cell_type": "code",
   "execution_count": null,
   "metadata": {},
   "outputs": [],
   "source": []
  },
  {
   "cell_type": "code",
   "execution_count": null,
   "metadata": {},
   "outputs": [],
   "source": []
  },
  {
   "cell_type": "code",
   "execution_count": null,
   "metadata": {},
   "outputs": [],
   "source": []
  },
  {
   "cell_type": "code",
   "execution_count": null,
   "metadata": {},
   "outputs": [],
   "source": []
  },
  {
   "cell_type": "code",
   "execution_count": null,
   "metadata": {},
   "outputs": [],
   "source": []
  },
  {
   "cell_type": "markdown",
   "metadata": {},
   "source": [
    "## Confidence interval and p-value"
   ]
  },
  {
   "cell_type": "markdown",
   "metadata": {},
   "source": [
    "The confidence interval above is often a useful quantity to estimate. If we wish to limit our expected probability of making a Type I error (where we wrongly reject the null hypothesis, and it is, instead, true) to $\\alpha$, the associated confidence interval is our estimate of the interval within which we expect the true population value to be found $100\\times(1 - \\alpha)$% of the time we do this test. In the above we performed bootstrap replicates to estimate the interval and reject the null hypothesis if this interval did not contain zero. You will sometimes see such an interval reported in the output of statistical functions.\n",
    "\n",
    "The partner of the confidence interval is the p-value. The p-value and the confidence interval are linked through our choice of $\\alpha$. The p-value tells us how likely it is, under the null hypothesis, to get an outcome at least as extreme as what was observed. If this fails to reach the level of our _pre-specified_ $\\alpha$, we decide the null hypothesis is sufficiently unlikely to be true and thus reject it. To calculate this p-value via the bootstrap, we have to put ourselves in a position where we are simulating the null hypothesis being true and then calculate the fraction of times we observe a result at least as extreme as that actually observed.\n",
    "\n",
    "Remember how, previously, you used the _t_-test to calculate the p-value for the observed difference between the means of insured and non-insured medical cases. We're now going to repeat this, this time using the bootstrap approach.\n",
    "\n",
    "__Q:__ Perform a bootstrapped hypothesis test at the 5% significance level ($\\alpha = 0.05$) to calculate the p-value of the observed difference between insurance and non-insurance charges, state your null and alternative hypotheses and whether you retain or reject the null hypothesis for the given significance level."
   ]
  },
  {
   "cell_type": "markdown",
   "metadata": {},
   "source": [
    "__A:__"
   ]
  },
  {
   "cell_type": "code",
   "execution_count": 310,
   "metadata": {},
   "outputs": [],
   "source": [
    "mc_m = pd.DataFrame({'meancharge': [ins_df.sample(len(ins_df),replace=True).charges.mean() for i in range(10000)]})\n",
    "nomc_m = pd.DataFrame({'nomeancharge': [noins_df.sample(len(noins_df),replace=True).charges.mean() for i in range(10000)]})"
   ]
  },
  {
   "cell_type": "code",
   "execution_count": 342,
   "metadata": {},
   "outputs": [
    {
     "data": {
      "text/plain": [
       "array([5928.55505184, 5928.55505184])"
      ]
     },
     "execution_count": 342,
     "metadata": {},
     "output_type": "execute_result"
    }
   ],
   "source": [
    "g_mean =mc_m.meancharge - nomc_m.nomeancharge\n",
    "g_mean\n",
    "# calculate 95% confidence interval\n",
    "np.percentile(g, [0.025,0.025])"
   ]
  },
  {
   "cell_type": "code",
   "execution_count": 343,
   "metadata": {},
   "outputs": [
    {
     "name": "stdout",
     "output_type": "stream",
     "text": [
      "t-statistic = 1328.30\n",
      "p-value = 0.0000\n"
     ]
    }
   ],
   "source": [
    "# calculate t-statistics of the std dev difference of bootstrapped sample\n",
    "t_stat, p = stats.ttest_ind(mc_m.meancharge, nomc_m.nomeancharge)\n",
    "print('t-statistic = {0:.2f}\\np-value = {1:.4f}'.format(t_stat,p))"
   ]
  },
  {
   "cell_type": "code",
   "execution_count": 344,
   "metadata": {},
   "outputs": [
    {
     "data": {
      "text/plain": [
       "array([5661.44878552, 5661.44878552])"
      ]
     },
     "execution_count": 344,
     "metadata": {},
     "output_type": "execute_result"
    }
   ],
   "source": [
    "\n",
    "# calculate 95% confidence interval\n",
    "np.percentile(g_mean, [0.025,0.025])"
   ]
  },
  {
   "cell_type": "code",
   "execution_count": 333,
   "metadata": {},
   "outputs": [
    {
     "name": "stdout",
     "output_type": "stream",
     "text": [
      "t-statistic = 1328.30\n",
      "p-value = 0.0000\n"
     ]
    }
   ],
   "source": [
    "# calculate t-statistics of the std dev difference of bootstrapped sample\n",
    "t_stat, p = stats.ttest_ind(mc_m.meancharge, nomc_m.nomeancharge)\n",
    "print('t-statistic = {0:.2f}\\np-value = {1:.4f}'.format(t_stat,p))"
   ]
  },
  {
   "cell_type": "markdown",
   "metadata": {},
   "source": [
    "__Q:__ To put the above result in perspective, plot the histogram of your bootstrapped differences along with lines marking the locations of the observed difference. (Why would we plot more than one line, given that we only have one observed difference?)"
   ]
  },
  {
   "cell_type": "markdown",
   "metadata": {},
   "source": [
    "__A:__"
   ]
  },
  {
   "cell_type": "code",
   "execution_count": 348,
   "metadata": {},
   "outputs": [
    {
     "data": {
      "image/png": "[encoded data removed]",
      "text/plain": [
       "<Figure size 864x576 with 1 Axes>"
      ]
     },
     "metadata": {
      "needs_background": "light"
     },
     "output_type": "display_data"
    }
   ],
   "source": [
    "plt.figure(figsize=(12,8))\n",
    "_ = sns.distplot(g_mean)\n",
    "_ = plt.xlabel('Charges ($)')\n",
    "_ = plt.ylabel('Probability')\n",
    "_ = plt.title('10,000 Distribution of Difference between std of insured Vs noninsured of Bootstrapped Samples')\n"
   ]
  },
  {
   "cell_type": "markdown",
   "metadata": {},
   "source": [
    "__Q:__ Compare your p-value above with that obtained using the _t_-test function in the previous assignment. Do you think you would want to try to perform enough bootstrap replicates to observe a random difference as large as that we did observe?"
   ]
  },
  {
   "cell_type": "markdown",
   "metadata": {},
   "source": [
    "__A:__"
   ]
  },
  {
   "cell_type": "markdown",
   "metadata": {},
   "source": [
    "__Q:__ Consider the two variants of the _t_-test we performed in the previous assignment. Which one would you use now?"
   ]
  },
  {
   "cell_type": "markdown",
   "metadata": {},
   "source": [
    "__A:__"
   ]
  },
  {
   "cell_type": "code",
   "execution_count": 349,
   "metadata": {},
   "outputs": [
    {
     "data": {
      "text/plain": [
       "Ttest_indResult(statistic=1328.29540024484, pvalue=0.0)"
      ]
     },
     "execution_count": 349,
     "metadata": {},
     "output_type": "execute_result"
    }
   ],
   "source": [
    "from scipy.stats import stats\n",
    "#stats.ttest_ind(medno_df.charges,medins_df.charges, equal_var = False)\n",
    "stats.ttest_ind(mc_m.meancharge,nomc_m.nomeancharge)"
   ]
  },
  {
   "cell_type": "markdown",
   "metadata": {},
   "source": [
    "__Q:__ If, instead of being asked whether the means of two groups were different, you were working with an ad-recommender team who wanted to release a new recommendation algorithm, and you were looking at click-through rate both for the current algorithm (call it A) and from trials of their new algorithm (call it B), would you perform a two-sided test as above? What would be your null and alternative hypotheses and what would be the real-world consequence of rejecting the null hypothesis?"
   ]
  },
  {
   "cell_type": "markdown",
   "metadata": {},
   "source": [
    "__A:__ one sided test will be performed. Two sided tests are \n",
    "    not considered here since we are interested in an increase of visitors\n",
    "    "
   ]
  },
  {
   "cell_type": "markdown",
   "metadata": {},
   "source": [
    "null hypothesis - There is no difference between the current(A) algorithm\n",
    "alternate hypothesis - There is a difference between the current and the new algorithm\n"
   ]
  },
  {
   "cell_type": "markdown",
   "metadata": {},
   "source": [
    "# Learning outcomes\n",
    "\n",
    "You've previously applied frequentist methods to calculate confidence intervals, p-values, and perform hypothesis tests. Frequentist methods use theoretical results to calculate what we expect would happen if experiments were to be run again and again and again. Now you've seen how you can do the same things using the bootstrap approach, which does not rely on such theory, and attendant assumptions, but instead literally does run experiments again and again and again.\n",
    "\n",
    "In these exercises, you have:\n",
    "* calculated the same confidence interval lower limit as you did previously\n",
    "* tested the assumption that the variances of the two groups (insured vs. non-insured) were equal - something a bit harder to do using the frequentist method because of the nature of the sampling distribution for variance\n",
    "* calculated the p-value for the difference between the means of the two groups and compared with the result obtained using the previous frequentist approach\n",
    "\n",
    "You are now well equipped to apply the bootstrap approach to a wide variety of problems. Just think about what conditions you wish to recreate in your simulated reruns."
   ]
  }
 ],
 "metadata": {
  "kernelspec": {
   "display_name": "Python 3",
   "language": "python",
   "name": "python3"
  },
  "language_info": {
   "codemirror_mode": {
    "name": "ipython",
    "version": 3
   },
   "file_extension": ".py",
   "mimetype": "text/x-python",
   "name": "python",
   "nbconvert_exporter": "python",
   "pygments_lexer": "ipython3",
   "version": "3.7.4"
  }
 },
 "nbformat": 4,
 "nbformat_minor": 2
}
