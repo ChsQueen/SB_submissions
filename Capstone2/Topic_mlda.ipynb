{
 "cells": [
  {
   "cell_type": "code",
   "execution_count": 66,
   "metadata": {},
   "outputs": [],
   "source": [
    "import numpy as np\n",
    "import pandas as pd"
   ]
  },
  {
   "cell_type": "code",
   "execution_count": 67,
   "metadata": {},
   "outputs": [],
   "source": [
    "import nltk\n",
    "from nltk.corpus import stopwords\n",
    "from gensim.models import ldamodel\n",
    "import gensim.corpora"
   ]
  },
  {
   "cell_type": "code",
   "execution_count": 68,
   "metadata": {},
   "outputs": [],
   "source": [
    "data = pd.read_csv('video_data.csv')"
   ]
  },
  {
   "cell_type": "code",
   "execution_count": 69,
   "metadata": {},
   "outputs": [
    {
     "data": {
      "text/html": [
       "<div>\n",
       "<style scoped>\n",
       "    .dataframe tbody tr th:only-of-type {\n",
       "        vertical-align: middle;\n",
       "    }\n",
       "\n",
       "    .dataframe tbody tr th {\n",
       "        vertical-align: top;\n",
       "    }\n",
       "\n",
       "    .dataframe thead th {\n",
       "        text-align: right;\n",
       "    }\n",
       "</style>\n",
       "<table border=\"1\" class=\"dataframe\">\n",
       "  <thead>\n",
       "    <tr style=\"text-align: right;\">\n",
       "      <th></th>\n",
       "      <th>video_id</th>\n",
       "      <th>category_name</th>\n",
       "      <th>short_description</th>\n",
       "      <th>story_text</th>\n",
       "      <th>title</th>\n",
       "    </tr>\n",
       "  </thead>\n",
       "  <tbody>\n",
       "    <tr>\n",
       "      <td>0</td>\n",
       "      <td>5653616771001</td>\n",
       "      <td>Entertainment News</td>\n",
       "      <td>The 34-year-old actor is not sure if he's goin...</td>\n",
       "      <td>Hack: \\tThe 34-year-old actor is not sure if h...</td>\n",
       "      <td>Adam Driver still 'undecided' on seeing 'Star ...</td>\n",
       "    </tr>\n",
       "    <tr>\n",
       "      <td>1</td>\n",
       "      <td>5631919940001</td>\n",
       "      <td>Entertainment News</td>\n",
       "      <td>The poster gives us a closer look at the actor...</td>\n",
       "      <td>The latest poster of 2.0 featuring Bollywood s...</td>\n",
       "      <td>BEWARE: Akshay Kumar's look from 2.0 is out, a...</td>\n",
       "    </tr>\n",
       "    <tr>\n",
       "      <td>2</td>\n",
       "      <td>5767901401001</td>\n",
       "      <td>India News</td>\n",
       "      <td>A massive outrage has erupted over the horrifi...</td>\n",
       "      <td>A massive outrage has erupted over the horrifi...</td>\n",
       "      <td>Kathua-Rape-Murder Case: Protesters demand CBI...</td>\n",
       "    </tr>\n",
       "    <tr>\n",
       "      <td>3</td>\n",
       "      <td>5741125480001</td>\n",
       "      <td>India News</td>\n",
       "      <td>According to forensic report, traces of alcoho...</td>\n",
       "      <td>The mystery surrounding Sridevi’s passing away...</td>\n",
       "      <td>Sridevi’s death: Here’s what Amar Singh claims...</td>\n",
       "    </tr>\n",
       "    <tr>\n",
       "      <td>4</td>\n",
       "      <td>5746648010001</td>\n",
       "      <td>Entertainment News</td>\n",
       "      <td>After her national award winning first film 'N...</td>\n",
       "      <td>After her national award winning first film 'N...</td>\n",
       "      <td>Churni's next film on social media affecting p...</td>\n",
       "    </tr>\n",
       "  </tbody>\n",
       "</table>\n",
       "</div>"
      ],
      "text/plain": [
       "        video_id       category_name  \\\n",
       "0  5653616771001  Entertainment News   \n",
       "1  5631919940001  Entertainment News   \n",
       "2  5767901401001          India News   \n",
       "3  5741125480001          India News   \n",
       "4  5746648010001  Entertainment News   \n",
       "\n",
       "                                   short_description  \\\n",
       "0  The 34-year-old actor is not sure if he's goin...   \n",
       "1  The poster gives us a closer look at the actor...   \n",
       "2  A massive outrage has erupted over the horrifi...   \n",
       "3  According to forensic report, traces of alcoho...   \n",
       "4  After her national award winning first film 'N...   \n",
       "\n",
       "                                          story_text  \\\n",
       "0  Hack: \\tThe 34-year-old actor is not sure if h...   \n",
       "1  The latest poster of 2.0 featuring Bollywood s...   \n",
       "2  A massive outrage has erupted over the horrifi...   \n",
       "3  The mystery surrounding Sridevi’s passing away...   \n",
       "4  After her national award winning first film 'N...   \n",
       "\n",
       "                                               title  \n",
       "0  Adam Driver still 'undecided' on seeing 'Star ...  \n",
       "1  BEWARE: Akshay Kumar's look from 2.0 is out, a...  \n",
       "2  Kathua-Rape-Murder Case: Protesters demand CBI...  \n",
       "3  Sridevi’s death: Here’s what Amar Singh claims...  \n",
       "4  Churni's next film on social media affecting p...  "
      ]
     },
     "execution_count": 69,
     "metadata": {},
     "output_type": "execute_result"
    }
   ],
   "source": [
    "data.head(5)"
   ]
  },
  {
   "cell_type": "code",
   "execution_count": 70,
   "metadata": {},
   "outputs": [],
   "source": [
    "import matplotlib.pyplot as plt\n",
    "import seaborn as sns"
   ]
  },
  {
   "cell_type": "code",
   "execution_count": 95,
   "metadata": {},
   "outputs": [
    {
     "data": {
      "image/png": "[encoded data removed]",
      "text/plain": [
       "<Figure size 432x288 with 1 Axes>"
      ]
     },
     "metadata": {
      "needs_background": "light"
     },
     "output_type": "display_data"
    }
   ],
   "source": [
    "data['length_text'] = data['story_text'].str.len()\n",
    "sns.distplot(data['length_text'], color=\"b\")\n",
    "plt.show()"
   ]
  },
  {
   "cell_type": "code",
   "execution_count": 96,
   "metadata": {},
   "outputs": [
    {
     "data": {
      "image/png": "[encoded data removed]",
      "text/plain": [
       "<Figure size 432x288 with 1 Axes>"
      ]
     },
     "metadata": {
      "needs_background": "light"
     },
     "output_type": "display_data"
    }
   ],
   "source": [
    "data['length_title'] = data['title'].str.len()\n",
    "sns.distplot(data['length_title'], color=\"b\")\n",
    "plt.show()"
   ]
  },
  {
   "cell_type": "code",
   "execution_count": 73,
   "metadata": {},
   "outputs": [],
   "source": [
    "titles = [x for x in data['title']]\n",
    "docs = [x for x in data['story_text']]"
   ]
  },
  {
   "cell_type": "code",
   "execution_count": 74,
   "metadata": {},
   "outputs": [
    {
     "name": "stderr",
     "output_type": "stream",
     "text": [
      "[nltk_data] Downloading package stopwords to\n",
      "[nltk_data]     /Users/ravissa/nltk_data...\n",
      "[nltk_data]   Package stopwords is already up-to-date!\n"
     ]
    },
    {
     "data": {
      "text/plain": [
       "True"
      ]
     },
     "execution_count": 74,
     "metadata": {},
     "output_type": "execute_result"
    }
   ],
   "source": [
    "nltk.download('stopwords')"
   ]
  },
  {
   "cell_type": "code",
   "execution_count": 75,
   "metadata": {},
   "outputs": [],
   "source": [
    "from nltk.corpus import stopwords\n",
    "stop_words = stopwords.words('english')\n",
    "stop_words.extend(['from', 'subject', 're', 'edu', 'use'])"
   ]
  },
  {
   "cell_type": "markdown",
   "metadata": {},
   "source": [
    "### Data Preprocessing"
   ]
  },
  {
   "cell_type": "code",
   "execution_count": 76,
   "metadata": {},
   "outputs": [],
   "source": [
    "# A function to prepare the text for topic modelling\n",
    "def words(text):\n",
    "    regex = re.compile('[' + re.escape(string.punctuation) + '0-9\\\\r\\\\t\\\\n]')\n",
    "    text = regex.sub(\" \", text.lower())\n",
    "    words = text.split(\" \")\n",
    "    words = [re.sub('\\S*@\\S*\\s?', '', sent) for sent in words]\n",
    "    words = [re.sub('\\s+', ' ', sent) for sent in words]\n",
    "    words = [re.sub(\"\\'\", \"\", sent) for sent in words]\n",
    "    words = [w for w in words if not len(w) < 2]\n",
    "    words = [w for w in words if w not in stop_words]\n",
    "    words = [lmtzr.lemmatize(w) for w in words]\n",
    "    \n",
    "    return words"
   ]
  },
  {
   "cell_type": "code",
   "execution_count": 77,
   "metadata": {},
   "outputs": [],
   "source": [
    "import re\n",
    "import string"
   ]
  },
  {
   "cell_type": "code",
   "execution_count": 78,
   "metadata": {},
   "outputs": [],
   "source": [
    "from nltk.stem.wordnet import WordNetLemmatizer\n",
    "lmtzr = WordNetLemmatizer()"
   ]
  },
  {
   "cell_type": "code",
   "execution_count": 79,
   "metadata": {},
   "outputs": [
    {
     "name": "stderr",
     "output_type": "stream",
     "text": [
      "[nltk_data] Downloading package wordnet to /Users/ravissa/nltk_data...\n",
      "[nltk_data]   Package wordnet is already up-to-date!\n"
     ]
    }
   ],
   "source": [
    "nltk.download('wordnet')\n",
    "docs = [words(x) for x in data['story_text']]"
   ]
  },
  {
   "cell_type": "code",
   "execution_count": 80,
   "metadata": {},
   "outputs": [],
   "source": [
    "from gensim.corpora import Dictionary"
   ]
  },
  {
   "cell_type": "code",
   "execution_count": 81,
   "metadata": {},
   "outputs": [
    {
     "name": "stdout",
     "output_type": "stream",
     "text": [
      "Number of unique words in initital documents: 78180\n",
      "Number of unique words after removing rare and common words: 8588\n"
     ]
    }
   ],
   "source": [
    "# Create a dictionary representation of the documents.\n",
    "dictionary = Dictionary(docs)\n",
    "print('Number of unique words in initital documents:', len(dictionary))\n",
    "\n",
    "# Filter out words that occur less than 10 documents, or more than 20% of the documents.\n",
    "dictionary.filter_extremes(no_below=10, no_above=0.2)\n",
    "print('Number of unique words after removing rare and common words:', len(dictionary))"
   ]
  },
  {
   "cell_type": "code",
   "execution_count": 82,
   "metadata": {},
   "outputs": [
    {
     "name": "stdout",
     "output_type": "stream",
     "text": [
      "Word 3 (\"always\") appears 1 time.\n",
      "Word 8 (\"back\") appears 1 time.\n",
      "Word 12 (\"come\") appears 1 time.\n",
      "Word 40 (\"hit\") appears 1 time.\n",
      "Word 43 (\"interview\") appears 1 time.\n",
      "Word 91 (\"tv\") appears 1 time.\n",
      "Word 151 (\"accused\") appears 1 time.\n",
      "Word 194 (\"congress\") appears 5 time.\n",
      "Word 197 (\"country\") appears 2 time.\n",
      "Word 235 (\"group\") appears 1 time.\n",
      "Word 303 (\"party\") appears 1 time.\n",
      "Word 309 (\"political\") appears 1 time.\n",
      "Word 381 (\"tuesday\") appears 1 time.\n",
      "Word 430 (\"exclusively\") appears 1 time.\n",
      "Word 437 (\"full\") appears 1 time.\n",
      "Word 465 (\"republic\") appears 1 time.\n",
      "Word 473 (\"speaking\") appears 1 time.\n",
      "Word 488 (\"added\") appears 1 time.\n",
      "Word 510 (\"earlier\") appears 1 time.\n",
      "Word 652 (\"pm\") appears 3 time.\n",
      "Word 696 (\"prime\") appears 1 time.\n",
      "Word 764 (\"gandhi\") appears 1 time.\n",
      "Word 784 (\"rahul\") appears 1 time.\n",
      "Word 923 (\"saying\") appears 1 time.\n",
      "Word 928 (\"top\") appears 1 time.\n",
      "Word 988 (\"shankar\") appears 1 time.\n",
      "Word 1123 (\"modi\") appears 4 time.\n",
      "Word 1340 (\" here\") appears 1 time.\n",
      "Word 1433 (\"narendra\") appears 2 time.\n",
      "Word 1807 (\"across\") appears 1 time.\n",
      "Word 2044 (\"prasad\") appears 1 time.\n",
      "Word 2084 (\"let\") appears 2 time.\n",
      "Word 2161 (\"union\") appears 2 time.\n",
      "Word 2170 (\"gujarat\") appears 1 time.\n",
      "Word 2548 (\"faith\") appears 1 time.\n",
      "Word 2836 (\"pain\") appears 1 time.\n",
      "Word 2883 (\"positivity\") appears 1 time.\n",
      "Word 3070 (\"saffron\") appears 1 time.\n",
      "Word 3118 (\"spreading\") appears 1 time.\n",
      "Word 3219 (\"threat\") appears 1 time.\n",
      "Word 3396 (\"gained\") appears 1 time.\n",
      "Word 3446 (\"terror\") appears 2 time.\n",
      "Word 3480 (\"considered\") appears 1 time.\n",
      "Word 3560 (\"mindset\") appears 1 time.\n",
      "Word 3575 (\"dangerous\") appears 1 time.\n",
      "Word 3791 (\"ravi\") appears 1 time.\n",
      "Word 3808 (\"trust\") appears 1 time.\n",
      "Word 3814 (\"le\") appears 1 time.\n",
      "Word 4095 (\"lashkar\") appears 1 time.\n",
      "Word 4103 (\"taiba\") appears 1 time.\n",
      "Word 4534 (\"quote\") appears 1 time.\n",
      "Word 4551 (\"dharmendra\") appears 1 time.\n",
      "Word 5665 (\"hear\") appears 1 time.\n",
      "Word 6388 (\"dust\") appears 1 time.\n",
      "Word 6389 (\"petroleum\") appears 1 time.\n",
      "Word 6390 (\"pradhan\") appears 2 time.\n"
     ]
    }
   ],
   "source": [
    "corpus = [dictionary.doc2bow(doc) for doc in docs]\n",
    "#print(len(corpus))\n",
    "#corpus[336]\n",
    "bow_doc_300 = corpus[300]\n",
    "\n",
    "for i in range(len(bow_doc_300)):\n",
    "    print(\"Word {} (\\\"{}\\\") appears {} time.\".format(bow_doc_300[i][0], \n",
    "                                                     dictionary[bow_doc_300[i][0]], \n",
    "                                                     bow_doc_300[i][1]))"
   ]
  },
  {
   "cell_type": "markdown",
   "metadata": {},
   "source": [
    "### Topic Modeling using LDA"
   ]
  },
  {
   "cell_type": "code",
   "execution_count": 83,
   "metadata": {},
   "outputs": [],
   "source": [
    "def get_lda_topics(model, num_topics):\n",
    "    word_dict = {};\n",
    "    for i in range(num_topics):\n",
    "        words = model.show_topic(i, topn = 20);\n",
    "        word_dict['Topic # ' + '{:02d}'.format(i+1)] = [i[0] for i in words];\n",
    "    return pd.DataFrame(word_dict);"
   ]
  },
  {
   "cell_type": "code",
   "execution_count": 84,
   "metadata": {},
   "outputs": [],
   "source": [
    "from gensim.models import ldamodel\n",
    "import gensim.corpora"
   ]
  },
  {
   "cell_type": "code",
   "execution_count": 85,
   "metadata": {},
   "outputs": [],
   "source": [
    "from gensim.models import LdaModel"
   ]
  },
  {
   "cell_type": "code",
   "execution_count": 86,
   "metadata": {},
   "outputs": [
    {
     "data": {
      "text/html": [
       "<div>\n",
       "<style scoped>\n",
       "    .dataframe tbody tr th:only-of-type {\n",
       "        vertical-align: middle;\n",
       "    }\n",
       "\n",
       "    .dataframe tbody tr th {\n",
       "        vertical-align: top;\n",
       "    }\n",
       "\n",
       "    .dataframe thead th {\n",
       "        text-align: right;\n",
       "    }\n",
       "</style>\n",
       "<table border=\"1\" class=\"dataframe\">\n",
       "  <thead>\n",
       "    <tr style=\"text-align: right;\">\n",
       "      <th></th>\n",
       "      <th>Topic # 01</th>\n",
       "      <th>Topic # 02</th>\n",
       "      <th>Topic # 03</th>\n",
       "      <th>Topic # 04</th>\n",
       "      <th>Topic # 05</th>\n",
       "      <th>Topic # 06</th>\n",
       "      <th>Topic # 07</th>\n",
       "      <th>Topic # 08</th>\n",
       "      <th>Topic # 09</th>\n",
       "      <th>Topic # 10</th>\n",
       "    </tr>\n",
       "  </thead>\n",
       "  <tbody>\n",
       "    <tr>\n",
       "      <td>0</td>\n",
       "      <td>653</td>\n",
       "      <td>808</td>\n",
       "      <td>2260</td>\n",
       "      <td>1406</td>\n",
       "      <td>199</td>\n",
       "      <td>469</td>\n",
       "      <td>194</td>\n",
       "      <td>904</td>\n",
       "      <td>350</td>\n",
       "      <td>366</td>\n",
       "    </tr>\n",
       "    <tr>\n",
       "      <td>1</td>\n",
       "      <td>140</td>\n",
       "      <td>812</td>\n",
       "      <td>308</td>\n",
       "      <td>197</td>\n",
       "      <td>180</td>\n",
       "      <td>109</td>\n",
       "      <td>303</td>\n",
       "      <td>1283</td>\n",
       "      <td>540</td>\n",
       "      <td>608</td>\n",
       "    </tr>\n",
       "    <tr>\n",
       "      <td>2</td>\n",
       "      <td>780</td>\n",
       "      <td>819</td>\n",
       "      <td>251</td>\n",
       "      <td>147</td>\n",
       "      <td>608</td>\n",
       "      <td>81</td>\n",
       "      <td>174</td>\n",
       "      <td>446</td>\n",
       "      <td>1083</td>\n",
       "      <td>1655</td>\n",
       "    </tr>\n",
       "    <tr>\n",
       "      <td>3</td>\n",
       "      <td>904</td>\n",
       "      <td>3234</td>\n",
       "      <td>985</td>\n",
       "      <td>801</td>\n",
       "      <td>712</td>\n",
       "      <td>70</td>\n",
       "      <td>1461</td>\n",
       "      <td>474</td>\n",
       "      <td>1051</td>\n",
       "      <td>1650</td>\n",
       "    </tr>\n",
       "    <tr>\n",
       "      <td>4</td>\n",
       "      <td>840</td>\n",
       "      <td>809</td>\n",
       "      <td>555</td>\n",
       "      <td>126</td>\n",
       "      <td>719</td>\n",
       "      <td>77</td>\n",
       "      <td>184</td>\n",
       "      <td>432</td>\n",
       "      <td>959</td>\n",
       "      <td>1734</td>\n",
       "    </tr>\n",
       "    <tr>\n",
       "      <td>5</td>\n",
       "      <td>72</td>\n",
       "      <td>3253</td>\n",
       "      <td>2063</td>\n",
       "      <td>3626</td>\n",
       "      <td>151</td>\n",
       "      <td>130</td>\n",
       "      <td>271</td>\n",
       "      <td>416</td>\n",
       "      <td>853</td>\n",
       "      <td>1640</td>\n",
       "    </tr>\n",
       "    <tr>\n",
       "      <td>6</td>\n",
       "      <td>652</td>\n",
       "      <td>806</td>\n",
       "      <td>3447</td>\n",
       "      <td>488</td>\n",
       "      <td>182</td>\n",
       "      <td>57</td>\n",
       "      <td>234</td>\n",
       "      <td>1636</td>\n",
       "      <td>989</td>\n",
       "      <td>1291</td>\n",
       "    </tr>\n",
       "    <tr>\n",
       "      <td>7</td>\n",
       "      <td>844</td>\n",
       "      <td>3276</td>\n",
       "      <td>4799</td>\n",
       "      <td>557</td>\n",
       "      <td>234</td>\n",
       "      <td>30</td>\n",
       "      <td>357</td>\n",
       "      <td>106</td>\n",
       "      <td>69</td>\n",
       "      <td>987</td>\n",
       "    </tr>\n",
       "    <tr>\n",
       "      <td>8</td>\n",
       "      <td>778</td>\n",
       "      <td>811</td>\n",
       "      <td>1366</td>\n",
       "      <td>3654</td>\n",
       "      <td>465</td>\n",
       "      <td>527</td>\n",
       "      <td>696</td>\n",
       "      <td>1187</td>\n",
       "      <td>660</td>\n",
       "      <td>1746</td>\n",
       "    </tr>\n",
       "    <tr>\n",
       "      <td>9</td>\n",
       "      <td>77</td>\n",
       "      <td>3232</td>\n",
       "      <td>759</td>\n",
       "      <td>3877</td>\n",
       "      <td>258</td>\n",
       "      <td>387</td>\n",
       "      <td>1123</td>\n",
       "      <td>426</td>\n",
       "      <td>2066</td>\n",
       "      <td>1190</td>\n",
       "    </tr>\n",
       "    <tr>\n",
       "      <td>10</td>\n",
       "      <td>573</td>\n",
       "      <td>1518</td>\n",
       "      <td>27</td>\n",
       "      <td>907</td>\n",
       "      <td>91</td>\n",
       "      <td>49</td>\n",
       "      <td>1568</td>\n",
       "      <td>63</td>\n",
       "      <td>136</td>\n",
       "      <td>719</td>\n",
       "    </tr>\n",
       "    <tr>\n",
       "      <td>11</td>\n",
       "      <td>106</td>\n",
       "      <td>3231</td>\n",
       "      <td>263</td>\n",
       "      <td>3664</td>\n",
       "      <td>1123</td>\n",
       "      <td>87</td>\n",
       "      <td>764</td>\n",
       "      <td>417</td>\n",
       "      <td>1078</td>\n",
       "      <td>1619</td>\n",
       "    </tr>\n",
       "    <tr>\n",
       "      <td>12</td>\n",
       "      <td>125</td>\n",
       "      <td>3281</td>\n",
       "      <td>684</td>\n",
       "      <td>761</td>\n",
       "      <td>1125</td>\n",
       "      <td>343</td>\n",
       "      <td>465</td>\n",
       "      <td>527</td>\n",
       "      <td>345</td>\n",
       "      <td>2988</td>\n",
       "    </tr>\n",
       "    <tr>\n",
       "      <td>13</td>\n",
       "      <td>827</td>\n",
       "      <td>805</td>\n",
       "      <td>747</td>\n",
       "      <td>4662</td>\n",
       "      <td>227</td>\n",
       "      <td>555</td>\n",
       "      <td>2170</td>\n",
       "      <td>445</td>\n",
       "      <td>57</td>\n",
       "      <td>141</td>\n",
       "    </tr>\n",
       "    <tr>\n",
       "      <td>14</td>\n",
       "      <td>542</td>\n",
       "      <td>3252</td>\n",
       "      <td>292</td>\n",
       "      <td>598</td>\n",
       "      <td>1033</td>\n",
       "      <td>63</td>\n",
       "      <td>3640</td>\n",
       "      <td>180</td>\n",
       "      <td>2083</td>\n",
       "      <td>1618</td>\n",
       "    </tr>\n",
       "    <tr>\n",
       "      <td>15</td>\n",
       "      <td>528</td>\n",
       "      <td>3261</td>\n",
       "      <td>298</td>\n",
       "      <td>2516</td>\n",
       "      <td>166</td>\n",
       "      <td>278</td>\n",
       "      <td>784</td>\n",
       "      <td>1262</td>\n",
       "      <td>2087</td>\n",
       "      <td>2873</td>\n",
       "    </tr>\n",
       "    <tr>\n",
       "      <td>16</td>\n",
       "      <td>394</td>\n",
       "      <td>3225</td>\n",
       "      <td>357</td>\n",
       "      <td>950</td>\n",
       "      <td>1126</td>\n",
       "      <td>844</td>\n",
       "      <td>309</td>\n",
       "      <td>1263</td>\n",
       "      <td>441</td>\n",
       "      <td>1659</td>\n",
       "    </tr>\n",
       "    <tr>\n",
       "      <td>17</td>\n",
       "      <td>2124</td>\n",
       "      <td>807</td>\n",
       "      <td>604</td>\n",
       "      <td>876</td>\n",
       "      <td>69</td>\n",
       "      <td>126</td>\n",
       "      <td>652</td>\n",
       "      <td>597</td>\n",
       "      <td>446</td>\n",
       "      <td>3861</td>\n",
       "    </tr>\n",
       "    <tr>\n",
       "      <td>18</td>\n",
       "      <td>849</td>\n",
       "      <td>815</td>\n",
       "      <td>290</td>\n",
       "      <td>973</td>\n",
       "      <td>1134</td>\n",
       "      <td>12</td>\n",
       "      <td>1436</td>\n",
       "      <td>1241</td>\n",
       "      <td>2097</td>\n",
       "      <td>803</td>\n",
       "    </tr>\n",
       "    <tr>\n",
       "      <td>19</td>\n",
       "      <td>1215</td>\n",
       "      <td>3239</td>\n",
       "      <td>4428</td>\n",
       "      <td>1642</td>\n",
       "      <td>1275</td>\n",
       "      <td>128</td>\n",
       "      <td>350</td>\n",
       "      <td>156</td>\n",
       "      <td>755</td>\n",
       "      <td>1638</td>\n",
       "    </tr>\n",
       "  </tbody>\n",
       "</table>\n",
       "</div>"
      ],
      "text/plain": [
       "   Topic # 01 Topic # 02 Topic # 03 Topic # 04 Topic # 05 Topic # 06  \\\n",
       "0         653        808       2260       1406        199        469   \n",
       "1         140        812        308        197        180        109   \n",
       "2         780        819        251        147        608         81   \n",
       "3         904       3234        985        801        712         70   \n",
       "4         840        809        555        126        719         77   \n",
       "5          72       3253       2063       3626        151        130   \n",
       "6         652        806       3447        488        182         57   \n",
       "7         844       3276       4799        557        234         30   \n",
       "8         778        811       1366       3654        465        527   \n",
       "9          77       3232        759       3877        258        387   \n",
       "10        573       1518         27        907         91         49   \n",
       "11        106       3231        263       3664       1123         87   \n",
       "12        125       3281        684        761       1125        343   \n",
       "13        827        805        747       4662        227        555   \n",
       "14        542       3252        292        598       1033         63   \n",
       "15        528       3261        298       2516        166        278   \n",
       "16        394       3225        357        950       1126        844   \n",
       "17       2124        807        604        876         69        126   \n",
       "18        849        815        290        973       1134         12   \n",
       "19       1215       3239       4428       1642       1275        128   \n",
       "\n",
       "   Topic # 07 Topic # 08 Topic # 09 Topic # 10  \n",
       "0         194        904        350        366  \n",
       "1         303       1283        540        608  \n",
       "2         174        446       1083       1655  \n",
       "3        1461        474       1051       1650  \n",
       "4         184        432        959       1734  \n",
       "5         271        416        853       1640  \n",
       "6         234       1636        989       1291  \n",
       "7         357        106         69        987  \n",
       "8         696       1187        660       1746  \n",
       "9        1123        426       2066       1190  \n",
       "10       1568         63        136        719  \n",
       "11        764        417       1078       1619  \n",
       "12        465        527        345       2988  \n",
       "13       2170        445         57        141  \n",
       "14       3640        180       2083       1618  \n",
       "15        784       1262       2087       2873  \n",
       "16        309       1263        441       1659  \n",
       "17        652        597        446       3861  \n",
       "18       1436       1241       2097        803  \n",
       "19        350        156        755       1638  "
      ]
     },
     "execution_count": 86,
     "metadata": {},
     "output_type": "execute_result"
    }
   ],
   "source": [
    "get_lda_topics(lda_model, 10)"
   ]
  },
  {
   "cell_type": "code",
   "execution_count": 87,
   "metadata": {},
   "outputs": [],
   "source": [
    "# Build LDA model\n",
    "lda_model = gensim.models.ldamodel.LdaModel(corpus=corpus,\n",
    "                                           num_topics=10, \n",
    "                                           random_state=100,\n",
    "                                           update_every=1,\n",
    "                                           chunksize=500,\n",
    "                                           passes=20,\n",
    "                                           alpha='auto',\n",
    "                                           per_word_topics=True)"
   ]
  },
  {
   "cell_type": "code",
   "execution_count": 88,
   "metadata": {},
   "outputs": [],
   "source": [
    "from gensim import models,corpora"
   ]
  },
  {
   "cell_type": "code",
   "execution_count": 89,
   "metadata": {},
   "outputs": [
    {
     "name": "stdout",
     "output_type": "stream",
     "text": [
      "(0, '0.032*\"653\" + 0.032*\"140\" + 0.017*\"780\" + 0.012*\"904\" + 0.010*\"840\" + 0.010*\"72\"')\n",
      "(1, '0.066*\"808\" + 0.049*\"812\" + 0.037*\"819\" + 0.037*\"3234\" + 0.030*\"809\" + 0.027*\"3253\"')\n",
      "(2, '0.012*\"2260\" + 0.008*\"308\" + 0.006*\"251\" + 0.005*\"985\" + 0.005*\"555\" + 0.005*\"2063\"')\n",
      "(3, '0.011*\"1406\" + 0.009*\"197\" + 0.006*\"147\" + 0.005*\"801\" + 0.004*\"126\" + 0.004*\"3626\"')\n",
      "(4, '0.023*\"199\" + 0.020*\"180\" + 0.010*\"608\" + 0.009*\"712\" + 0.008*\"719\" + 0.007*\"151\"')\n",
      "(5, '0.007*\"469\" + 0.006*\"109\" + 0.006*\"81\" + 0.006*\"70\" + 0.006*\"77\" + 0.006*\"130\"')\n",
      "(6, '0.015*\"194\" + 0.014*\"303\" + 0.013*\"174\" + 0.012*\"1461\" + 0.011*\"184\" + 0.011*\"271\"')\n",
      "(7, '0.024*\"904\" + 0.021*\"1283\" + 0.016*\"446\" + 0.016*\"474\" + 0.010*\"432\" + 0.009*\"416\"')\n",
      "(8, '0.016*\"350\" + 0.012*\"540\" + 0.011*\"1083\" + 0.010*\"1051\" + 0.010*\"959\" + 0.009*\"853\"')\n",
      "(9, '0.018*\"366\" + 0.017*\"608\" + 0.017*\"1655\" + 0.016*\"1650\" + 0.016*\"1734\" + 0.012*\"1640\"')\n"
     ]
    }
   ],
   "source": [
    "lda_model.save('model10.gensim')\n",
    "topics = lda_model.print_topics(num_words=6)\n",
    "for topic in topics:\n",
    "    print(topic)"
   ]
  },
  {
   "cell_type": "markdown",
   "metadata": {},
   "source": [
    "### COSINE similarity"
   ]
  },
  {
   "cell_type": "code",
   "execution_count": 90,
   "metadata": {},
   "outputs": [],
   "source": [
    "from itertools import chain"
   ]
  },
  {
   "cell_type": "code",
   "execution_count": 91,
   "metadata": {},
   "outputs": [],
   "source": [
    "words_list=list(chain.from_iterable(docs))"
   ]
  },
  {
   "cell_type": "code",
   "execution_count": 92,
   "metadata": {},
   "outputs": [],
   "source": [
    "# Cosine similarity\n",
    "def cosine_sim(text1, text2):\n",
    "    tfidf_score = TfidfVectorizer().fit_transform([text1, text2])\n",
    "    return ((tfidf_score * tfidf_score.T).A)[0, 1]\n",
    "\n",
    "# Most similar article\n",
    "def closest_doc_name(sentence, docs):\n",
    "    cos = []\n",
    "    for i in range(len(docs)):\n",
    "        cos.append(cosine_sim(', '.join(sentence.split(' ')),', '.join(docs[i])))\n",
    "    return [titles[x] for x in np.argsort(cos)[-10:][::-1]]"
   ]
  },
  {
   "cell_type": "code",
   "execution_count": 93,
   "metadata": {},
   "outputs": [],
   "source": [
    "from sklearn.feature_extraction.text import TfidfVectorizer\n",
    "tfidf = TfidfVectorizer(tokenizer=words, stop_words=stop_words).fit(words_list)"
   ]
  },
  {
   "cell_type": "code",
   "execution_count": 94,
   "metadata": {},
   "outputs": [
    {
     "data": {
      "text/plain": [
       "['News Wrap: All the top headlines from across the world',\n",
       " 'Prime Minister directs withdrawal of fake news notice; onus put on Press Council of India',\n",
       " \"National Wrap: All That's Trending In The Country\",\n",
       " \"National Wrap: All That's Trending In India\",\n",
       " 'National Wrap: Latest Trending News In India On March 9',\n",
       " 'National Wrap: Latest Trending News In India On March 10',\n",
       " 'National Wrap: Latest Trending News In India On March 6',\n",
       " 'National Wrap: Latest Trending News In India On March 7',\n",
       " 'National Wrap: Latest Trending News In India On March 5',\n",
       " 'LIVE NOW: Republic World App - Light On Your Phone; Heavy On The News!']"
      ]
     },
     "execution_count": 94,
     "metadata": {},
     "output_type": "execute_result"
    }
   ],
   "source": [
    "closest_doc_name('news', docs)"
   ]
  },
  {
   "cell_type": "code",
   "execution_count": null,
   "metadata": {},
   "outputs": [],
   "source": []
  },
  {
   "cell_type": "code",
   "execution_count": null,
   "metadata": {},
   "outputs": [],
   "source": []
  },
  {
   "cell_type": "code",
   "execution_count": null,
   "metadata": {},
   "outputs": [],
   "source": []
  },
  {
   "cell_type": "code",
   "execution_count": null,
   "metadata": {},
   "outputs": [],
   "source": []
  },
  {
   "cell_type": "code",
   "execution_count": null,
   "metadata": {},
   "outputs": [],
   "source": []
  }
 ],
 "metadata": {
  "kernelspec": {
   "display_name": "Python 3",
   "language": "python",
   "name": "python3"
  },
  "language_info": {
   "codemirror_mode": {
    "name": "ipython",
    "version": 3
   },
   "file_extension": ".py",
   "mimetype": "text/x-python",
   "name": "python",
   "nbconvert_exporter": "python",
   "pygments_lexer": "ipython3",
   "version": "3.7.4"
  }
 },
 "nbformat": 4,
 "nbformat_minor": 4
}
